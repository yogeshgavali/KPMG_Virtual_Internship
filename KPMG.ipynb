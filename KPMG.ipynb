{
 "cells": [
  {
   "cell_type": "markdown",
   "metadata": {},
   "source": [
    "Importing Dataset"
   ]
  },
  {
   "cell_type": "code",
   "execution_count": 1,
   "metadata": {},
   "outputs": [],
   "source": [
    "import pandas as pd\n",
    "import seaborn as sns\n",
    "import numpy as np\n",
    "import warnings\n",
    "import matplotlib.pyplot as plt\n",
    "%matplotlib inline"
   ]
  },
  {
   "cell_type": "code",
   "execution_count": 2,
   "metadata": {},
   "outputs": [
    {
     "data": {
      "text/html": [
       "<div>\n",
       "<style scoped>\n",
       "    .dataframe tbody tr th:only-of-type {\n",
       "        vertical-align: middle;\n",
       "    }\n",
       "\n",
       "    .dataframe tbody tr th {\n",
       "        vertical-align: top;\n",
       "    }\n",
       "\n",
       "    .dataframe thead th {\n",
       "        text-align: right;\n",
       "    }\n",
       "</style>\n",
       "<table border=\"1\" class=\"dataframe\">\n",
       "  <thead>\n",
       "    <tr style=\"text-align: right;\">\n",
       "      <th></th>\n",
       "      <th>Unnamed: 0</th>\n",
       "      <th>Note: The data and information in this document is reflective of a hypothetical situation and client. This document is to be used for KPMG Virtual Internship purposes only.</th>\n",
       "      <th>Unnamed: 2</th>\n",
       "      <th>Unnamed: 3</th>\n",
       "      <th>Unnamed: 4</th>\n",
       "      <th>Unnamed: 5</th>\n",
       "      <th>Unnamed: 6</th>\n",
       "      <th>Unnamed: 7</th>\n",
       "      <th>Unnamed: 8</th>\n",
       "      <th>Unnamed: 9</th>\n",
       "      <th>Unnamed: 10</th>\n",
       "    </tr>\n",
       "  </thead>\n",
       "  <tbody>\n",
       "    <tr>\n",
       "      <td>0</td>\n",
       "      <td>NaN</td>\n",
       "      <td>NaN</td>\n",
       "      <td>NaN</td>\n",
       "      <td>NaN</td>\n",
       "      <td>NaN</td>\n",
       "      <td>NaN</td>\n",
       "      <td>NaN</td>\n",
       "      <td>NaN</td>\n",
       "      <td>NaN</td>\n",
       "      <td>NaN</td>\n",
       "      <td>NaN</td>\n",
       "    </tr>\n",
       "    <tr>\n",
       "      <td>1</td>\n",
       "      <td>NaN</td>\n",
       "      <td>NaN</td>\n",
       "      <td>NaN</td>\n",
       "      <td>NaN</td>\n",
       "      <td>NaN</td>\n",
       "      <td>NaN</td>\n",
       "      <td>NaN</td>\n",
       "      <td>NaN</td>\n",
       "      <td>NaN</td>\n",
       "      <td>NaN</td>\n",
       "      <td>NaN</td>\n",
       "    </tr>\n",
       "    <tr>\n",
       "      <td>2</td>\n",
       "      <td>NaN</td>\n",
       "      <td>NaN</td>\n",
       "      <td>NaN</td>\n",
       "      <td>NaN</td>\n",
       "      <td>NaN</td>\n",
       "      <td>NaN</td>\n",
       "      <td>NaN</td>\n",
       "      <td>NaN</td>\n",
       "      <td>NaN</td>\n",
       "      <td>NaN</td>\n",
       "      <td>NaN</td>\n",
       "    </tr>\n",
       "    <tr>\n",
       "      <td>3</td>\n",
       "      <td>NaN</td>\n",
       "      <td>NaN</td>\n",
       "      <td>KPMG Virtual Internship</td>\n",
       "      <td>NaN</td>\n",
       "      <td>NaN</td>\n",
       "      <td>NaN</td>\n",
       "      <td>NaN</td>\n",
       "      <td>NaN</td>\n",
       "      <td>NaN</td>\n",
       "      <td>NaN</td>\n",
       "      <td>NaN</td>\n",
       "    </tr>\n",
       "    <tr>\n",
       "      <td>4</td>\n",
       "      <td>NaN</td>\n",
       "      <td>NaN</td>\n",
       "      <td>Sprocket Central Pty Ltd Data Set</td>\n",
       "      <td>NaN</td>\n",
       "      <td>NaN</td>\n",
       "      <td>NaN</td>\n",
       "      <td>NaN</td>\n",
       "      <td>NaN</td>\n",
       "      <td>NaN</td>\n",
       "      <td>NaN</td>\n",
       "      <td>NaN</td>\n",
       "    </tr>\n",
       "    <tr>\n",
       "      <td>...</td>\n",
       "      <td>...</td>\n",
       "      <td>...</td>\n",
       "      <td>...</td>\n",
       "      <td>...</td>\n",
       "      <td>...</td>\n",
       "      <td>...</td>\n",
       "      <td>...</td>\n",
       "      <td>...</td>\n",
       "      <td>...</td>\n",
       "      <td>...</td>\n",
       "      <td>...</td>\n",
       "    </tr>\n",
       "    <tr>\n",
       "      <td>95</td>\n",
       "      <td>NaN</td>\n",
       "      <td>NaN</td>\n",
       "      <td>NaN</td>\n",
       "      <td>NaN</td>\n",
       "      <td>NaN</td>\n",
       "      <td>NaN</td>\n",
       "      <td>NaN</td>\n",
       "      <td>NaN</td>\n",
       "      <td>NaN</td>\n",
       "      <td>NaN</td>\n",
       "      <td>NaN</td>\n",
       "    </tr>\n",
       "    <tr>\n",
       "      <td>96</td>\n",
       "      <td>NaN</td>\n",
       "      <td>NaN</td>\n",
       "      <td>NaN</td>\n",
       "      <td>NaN</td>\n",
       "      <td>NaN</td>\n",
       "      <td>NaN</td>\n",
       "      <td>NaN</td>\n",
       "      <td>NaN</td>\n",
       "      <td>NaN</td>\n",
       "      <td>NaN</td>\n",
       "      <td>NaN</td>\n",
       "    </tr>\n",
       "    <tr>\n",
       "      <td>97</td>\n",
       "      <td>NaN</td>\n",
       "      <td>NaN</td>\n",
       "      <td>7) For the rest of this Module 1 task, it is u...</td>\n",
       "      <td>NaN</td>\n",
       "      <td>NaN</td>\n",
       "      <td>NaN</td>\n",
       "      <td>NaN</td>\n",
       "      <td>NaN</td>\n",
       "      <td>NaN</td>\n",
       "      <td>NaN</td>\n",
       "      <td>NaN</td>\n",
       "    </tr>\n",
       "    <tr>\n",
       "      <td>98</td>\n",
       "      <td>NaN</td>\n",
       "      <td>NaN</td>\n",
       "      <td>NaN</td>\n",
       "      <td>NaN</td>\n",
       "      <td>NaN</td>\n",
       "      <td>NaN</td>\n",
       "      <td>NaN</td>\n",
       "      <td>NaN</td>\n",
       "      <td>NaN</td>\n",
       "      <td>NaN</td>\n",
       "      <td>NaN</td>\n",
       "    </tr>\n",
       "    <tr>\n",
       "      <td>99</td>\n",
       "      <td>NaN</td>\n",
       "      <td>NaN</td>\n",
       "      <td>NaN</td>\n",
       "      <td>NaN</td>\n",
       "      <td>NaN</td>\n",
       "      <td>NaN</td>\n",
       "      <td>NaN</td>\n",
       "      <td>NaN</td>\n",
       "      <td>NaN</td>\n",
       "      <td>NaN</td>\n",
       "      <td>NaN</td>\n",
       "    </tr>\n",
       "  </tbody>\n",
       "</table>\n",
       "<p>100 rows × 11 columns</p>\n",
       "</div>"
      ],
      "text/plain": [
       "    Unnamed: 0  \\\n",
       "0          NaN   \n",
       "1          NaN   \n",
       "2          NaN   \n",
       "3          NaN   \n",
       "4          NaN   \n",
       "..         ...   \n",
       "95         NaN   \n",
       "96         NaN   \n",
       "97         NaN   \n",
       "98         NaN   \n",
       "99         NaN   \n",
       "\n",
       "    Note: The data and information in this document is reflective of a hypothetical situation and client. This document is to be used for KPMG Virtual Internship purposes only.   \\\n",
       "0                                                 NaN                                                                                                                               \n",
       "1                                                 NaN                                                                                                                               \n",
       "2                                                 NaN                                                                                                                               \n",
       "3                                                 NaN                                                                                                                               \n",
       "4                                                 NaN                                                                                                                               \n",
       "..                                                ...                                                                                                                               \n",
       "95                                                NaN                                                                                                                               \n",
       "96                                                NaN                                                                                                                               \n",
       "97                                                NaN                                                                                                                               \n",
       "98                                                NaN                                                                                                                               \n",
       "99                                                NaN                                                                                                                               \n",
       "\n",
       "                                           Unnamed: 2  Unnamed: 3  Unnamed: 4  \\\n",
       "0                                                 NaN         NaN         NaN   \n",
       "1                                                 NaN         NaN         NaN   \n",
       "2                                                 NaN         NaN         NaN   \n",
       "3                             KPMG Virtual Internship         NaN         NaN   \n",
       "4                   Sprocket Central Pty Ltd Data Set         NaN         NaN   \n",
       "..                                                ...         ...         ...   \n",
       "95                                                NaN         NaN         NaN   \n",
       "96                                                NaN         NaN         NaN   \n",
       "97  7) For the rest of this Module 1 task, it is u...         NaN         NaN   \n",
       "98                                                NaN         NaN         NaN   \n",
       "99                                                NaN         NaN         NaN   \n",
       "\n",
       "   Unnamed: 5  Unnamed: 6  Unnamed: 7 Unnamed: 8  Unnamed: 9  Unnamed: 10  \n",
       "0         NaN         NaN         NaN        NaN         NaN          NaN  \n",
       "1         NaN         NaN         NaN        NaN         NaN          NaN  \n",
       "2         NaN         NaN         NaN        NaN         NaN          NaN  \n",
       "3         NaN         NaN         NaN        NaN         NaN          NaN  \n",
       "4         NaN         NaN         NaN        NaN         NaN          NaN  \n",
       "..        ...         ...         ...        ...         ...          ...  \n",
       "95        NaN         NaN         NaN        NaN         NaN          NaN  \n",
       "96        NaN         NaN         NaN        NaN         NaN          NaN  \n",
       "97        NaN         NaN         NaN        NaN         NaN          NaN  \n",
       "98        NaN         NaN         NaN        NaN         NaN          NaN  \n",
       "99        NaN         NaN         NaN        NaN         NaN          NaN  \n",
       "\n",
       "[100 rows x 11 columns]"
      ]
     },
     "execution_count": 2,
     "metadata": {},
     "output_type": "execute_result"
    }
   ],
   "source": [
    "data= pd.read_excel(\"KPMG_VI_New_raw_data_update_final.xlsx\")\n",
    "data"
   ]
  },
  {
   "cell_type": "code",
   "execution_count": 3,
   "metadata": {},
   "outputs": [],
   "source": [
    "transactions = pd.read_excel(\"KPMG_VI_New_raw_data_update_final.xlsx\", header=1, sheet_name='Transactions')\n",
    "new_customer_lists  = pd.read_excel(\"KPMG_VI_New_raw_data_update_final.xlsx\", header=1, sheet_name='NewCustomerList')\n",
    "customer_demographic =pd.read_excel(\"KPMG_VI_New_raw_data_update_final.xlsx\",header=1, sheet_name=\"CustomerDemographic\")\n",
    "customer_address = pd.read_excel(\"KPMG_VI_New_raw_data_update_final.xlsx\",header=1, sheet_name= \"CustomerAddress\")"
   ]
  },
  {
   "cell_type": "code",
   "execution_count": 4,
   "metadata": {},
   "outputs": [
    {
     "name": "stdout",
     "output_type": "stream",
     "text": [
      "shape no of transaction is (20000, 13)\n",
      "<class 'pandas.core.frame.DataFrame'>\n",
      "RangeIndex: 20000 entries, 0 to 19999\n",
      "Data columns (total 13 columns):\n",
      "transaction_id             20000 non-null int64\n",
      "product_id                 20000 non-null int64\n",
      "customer_id                20000 non-null int64\n",
      "transaction_date           20000 non-null datetime64[ns]\n",
      "online_order               19640 non-null float64\n",
      "order_status               20000 non-null object\n",
      "brand                      19803 non-null object\n",
      "product_line               19803 non-null object\n",
      "product_class              19803 non-null object\n",
      "product_size               19803 non-null object\n",
      "list_price                 20000 non-null float64\n",
      "standard_cost              19803 non-null float64\n",
      "product_first_sold_date    19803 non-null float64\n",
      "dtypes: datetime64[ns](1), float64(4), int64(3), object(5)\n",
      "memory usage: 2.0+ MB\n",
      "customer transaction information None\n"
     ]
    }
   ],
   "source": [
    "print('shape no of transaction is',transactions.shape)\n",
    "print('customer transaction information',transactions.info())"
   ]
  },
  {
   "cell_type": "code",
   "execution_count": 5,
   "metadata": {},
   "outputs": [
    {
     "name": "stdout",
     "output_type": "stream",
     "text": [
      "shape no of new customer list (1000, 23)\n",
      "<class 'pandas.core.frame.DataFrame'>\n",
      "RangeIndex: 1000 entries, 0 to 999\n",
      "Data columns (total 23 columns):\n",
      "first_name                             1000 non-null object\n",
      "last_name                              971 non-null object\n",
      "gender                                 1000 non-null object\n",
      "past_3_years_bike_related_purchases    1000 non-null int64\n",
      "DOB                                    983 non-null datetime64[ns]\n",
      "job_title                              894 non-null object\n",
      "job_industry_category                  835 non-null object\n",
      "wealth_segment                         1000 non-null object\n",
      "deceased_indicator                     1000 non-null object\n",
      "owns_car                               1000 non-null object\n",
      "tenure                                 1000 non-null int64\n",
      "address                                1000 non-null object\n",
      "postcode                               1000 non-null int64\n",
      "state                                  1000 non-null object\n",
      "country                                1000 non-null object\n",
      "property_valuation                     1000 non-null int64\n",
      "Unnamed: 16                            1000 non-null float64\n",
      "Unnamed: 17                            1000 non-null float64\n",
      "Unnamed: 18                            1000 non-null float64\n",
      "Unnamed: 19                            1000 non-null float64\n",
      "Unnamed: 20                            1000 non-null int64\n",
      "Rank                                   1000 non-null int64\n",
      "Value                                  1000 non-null float64\n",
      "dtypes: datetime64[ns](1), float64(5), int64(6), object(11)\n",
      "memory usage: 179.8+ KB\n",
      "customer lists information None\n"
     ]
    }
   ],
   "source": [
    "print(\"shape no of new customer list\",new_customer_lists.shape)\n",
    "print(\"customer lists information\",new_customer_lists.info())"
   ]
  },
  {
   "cell_type": "code",
   "execution_count": 6,
   "metadata": {},
   "outputs": [
    {
     "name": "stdout",
     "output_type": "stream",
     "text": [
      "shape no of customer demographic (4000, 13)\n",
      "<class 'pandas.core.frame.DataFrame'>\n",
      "RangeIndex: 4000 entries, 0 to 3999\n",
      "Data columns (total 13 columns):\n",
      "customer_id                            4000 non-null int64\n",
      "first_name                             4000 non-null object\n",
      "last_name                              3875 non-null object\n",
      "gender                                 4000 non-null object\n",
      "past_3_years_bike_related_purchases    4000 non-null int64\n",
      "DOB                                    3913 non-null datetime64[ns]\n",
      "job_title                              3494 non-null object\n",
      "job_industry_category                  3344 non-null object\n",
      "wealth_segment                         4000 non-null object\n",
      "deceased_indicator                     4000 non-null object\n",
      "default                                3698 non-null object\n",
      "owns_car                               4000 non-null object\n",
      "tenure                                 3913 non-null float64\n",
      "dtypes: datetime64[ns](1), float64(1), int64(2), object(9)\n",
      "memory usage: 406.4+ KB\n",
      "customer demographic information None\n"
     ]
    }
   ],
   "source": [
    "print(\"shape no of customer demographic\",customer_demographic.shape)\n",
    "print(\"customer demographic information\",customer_demographic.info())"
   ]
  },
  {
   "cell_type": "markdown",
   "metadata": {},
   "source": [
    "Merging Customer Data"
   ]
  },
  {
   "cell_type": "code",
   "execution_count": 7,
   "metadata": {},
   "outputs": [
    {
     "data": {
      "text/plain": [
       "{3, 10, 22, 23, 4001, 4002, 4003}"
      ]
     },
     "execution_count": 7,
     "metadata": {},
     "output_type": "execute_result"
    }
   ],
   "source": [
    "set(customer_demographic.customer_id).symmetric_difference(customer_address.customer_id)"
   ]
  },
  {
   "cell_type": "code",
   "execution_count": 8,
   "metadata": {},
   "outputs": [],
   "source": [
    "demographic = pd.merge(customer_demographic,customer_address,how='left')"
   ]
  },
  {
   "cell_type": "code",
   "execution_count": 9,
   "metadata": {},
   "outputs": [
    {
     "data": {
      "text/html": [
       "<div>\n",
       "<style scoped>\n",
       "    .dataframe tbody tr th:only-of-type {\n",
       "        vertical-align: middle;\n",
       "    }\n",
       "\n",
       "    .dataframe tbody tr th {\n",
       "        vertical-align: top;\n",
       "    }\n",
       "\n",
       "    .dataframe thead th {\n",
       "        text-align: right;\n",
       "    }\n",
       "</style>\n",
       "<table border=\"1\" class=\"dataframe\">\n",
       "  <thead>\n",
       "    <tr style=\"text-align: right;\">\n",
       "      <th></th>\n",
       "      <th>customer_id</th>\n",
       "      <th>first_name</th>\n",
       "      <th>last_name</th>\n",
       "      <th>gender</th>\n",
       "      <th>past_3_years_bike_related_purchases</th>\n",
       "      <th>DOB</th>\n",
       "      <th>job_title</th>\n",
       "      <th>job_industry_category</th>\n",
       "      <th>wealth_segment</th>\n",
       "      <th>deceased_indicator</th>\n",
       "      <th>default</th>\n",
       "      <th>owns_car</th>\n",
       "      <th>tenure</th>\n",
       "      <th>address</th>\n",
       "      <th>postcode</th>\n",
       "      <th>state</th>\n",
       "      <th>country</th>\n",
       "      <th>property_valuation</th>\n",
       "    </tr>\n",
       "  </thead>\n",
       "  <tbody>\n",
       "    <tr>\n",
       "      <td>0</td>\n",
       "      <td>1</td>\n",
       "      <td>Laraine</td>\n",
       "      <td>Medendorp</td>\n",
       "      <td>F</td>\n",
       "      <td>93</td>\n",
       "      <td>1953-10-12</td>\n",
       "      <td>Executive Secretary</td>\n",
       "      <td>Health</td>\n",
       "      <td>Mass Customer</td>\n",
       "      <td>N</td>\n",
       "      <td>\"'</td>\n",
       "      <td>Yes</td>\n",
       "      <td>11.0</td>\n",
       "      <td>060 Morning Avenue</td>\n",
       "      <td>2016.0</td>\n",
       "      <td>New South Wales</td>\n",
       "      <td>Australia</td>\n",
       "      <td>10.0</td>\n",
       "    </tr>\n",
       "    <tr>\n",
       "      <td>1</td>\n",
       "      <td>2</td>\n",
       "      <td>Eli</td>\n",
       "      <td>Bockman</td>\n",
       "      <td>Male</td>\n",
       "      <td>81</td>\n",
       "      <td>1980-12-16</td>\n",
       "      <td>Administrative Officer</td>\n",
       "      <td>Financial Services</td>\n",
       "      <td>Mass Customer</td>\n",
       "      <td>N</td>\n",
       "      <td>&lt;script&gt;alert('hi')&lt;/script&gt;</td>\n",
       "      <td>Yes</td>\n",
       "      <td>16.0</td>\n",
       "      <td>6 Meadow Vale Court</td>\n",
       "      <td>2153.0</td>\n",
       "      <td>New South Wales</td>\n",
       "      <td>Australia</td>\n",
       "      <td>10.0</td>\n",
       "    </tr>\n",
       "    <tr>\n",
       "      <td>2</td>\n",
       "      <td>3</td>\n",
       "      <td>Arlin</td>\n",
       "      <td>Dearle</td>\n",
       "      <td>Male</td>\n",
       "      <td>61</td>\n",
       "      <td>1954-01-20</td>\n",
       "      <td>Recruiting Manager</td>\n",
       "      <td>Property</td>\n",
       "      <td>Mass Customer</td>\n",
       "      <td>N</td>\n",
       "      <td>2018-02-01 00:00:00</td>\n",
       "      <td>Yes</td>\n",
       "      <td>15.0</td>\n",
       "      <td>NaN</td>\n",
       "      <td>NaN</td>\n",
       "      <td>NaN</td>\n",
       "      <td>NaN</td>\n",
       "      <td>NaN</td>\n",
       "    </tr>\n",
       "    <tr>\n",
       "      <td>3</td>\n",
       "      <td>4</td>\n",
       "      <td>Talbot</td>\n",
       "      <td>NaN</td>\n",
       "      <td>Male</td>\n",
       "      <td>33</td>\n",
       "      <td>1961-10-03</td>\n",
       "      <td>NaN</td>\n",
       "      <td>IT</td>\n",
       "      <td>Mass Customer</td>\n",
       "      <td>N</td>\n",
       "      <td>() { _; } &gt;_[$($())] { touch /tmp/blns.shellsh...</td>\n",
       "      <td>No</td>\n",
       "      <td>7.0</td>\n",
       "      <td>0 Holy Cross Court</td>\n",
       "      <td>4211.0</td>\n",
       "      <td>QLD</td>\n",
       "      <td>Australia</td>\n",
       "      <td>9.0</td>\n",
       "    </tr>\n",
       "    <tr>\n",
       "      <td>4</td>\n",
       "      <td>5</td>\n",
       "      <td>Sheila-kathryn</td>\n",
       "      <td>Calton</td>\n",
       "      <td>Female</td>\n",
       "      <td>56</td>\n",
       "      <td>1977-05-13</td>\n",
       "      <td>Senior Editor</td>\n",
       "      <td>NaN</td>\n",
       "      <td>Affluent Customer</td>\n",
       "      <td>N</td>\n",
       "      <td>NIL</td>\n",
       "      <td>Yes</td>\n",
       "      <td>8.0</td>\n",
       "      <td>17979 Del Mar Point</td>\n",
       "      <td>2448.0</td>\n",
       "      <td>New South Wales</td>\n",
       "      <td>Australia</td>\n",
       "      <td>4.0</td>\n",
       "    </tr>\n",
       "  </tbody>\n",
       "</table>\n",
       "</div>"
      ],
      "text/plain": [
       "   customer_id      first_name  last_name  gender  \\\n",
       "0            1         Laraine  Medendorp       F   \n",
       "1            2             Eli    Bockman    Male   \n",
       "2            3           Arlin     Dearle    Male   \n",
       "3            4          Talbot        NaN    Male   \n",
       "4            5  Sheila-kathryn     Calton  Female   \n",
       "\n",
       "   past_3_years_bike_related_purchases        DOB               job_title  \\\n",
       "0                                   93 1953-10-12     Executive Secretary   \n",
       "1                                   81 1980-12-16  Administrative Officer   \n",
       "2                                   61 1954-01-20      Recruiting Manager   \n",
       "3                                   33 1961-10-03                     NaN   \n",
       "4                                   56 1977-05-13           Senior Editor   \n",
       "\n",
       "  job_industry_category     wealth_segment deceased_indicator  \\\n",
       "0                Health      Mass Customer                  N   \n",
       "1    Financial Services      Mass Customer                  N   \n",
       "2              Property      Mass Customer                  N   \n",
       "3                    IT      Mass Customer                  N   \n",
       "4                   NaN  Affluent Customer                  N   \n",
       "\n",
       "                                             default owns_car  tenure  \\\n",
       "0                                                 \"'      Yes    11.0   \n",
       "1                       <script>alert('hi')</script>      Yes    16.0   \n",
       "2                                2018-02-01 00:00:00      Yes    15.0   \n",
       "3  () { _; } >_[$($())] { touch /tmp/blns.shellsh...       No     7.0   \n",
       "4                                                NIL      Yes     8.0   \n",
       "\n",
       "               address  postcode            state    country  \\\n",
       "0   060 Morning Avenue    2016.0  New South Wales  Australia   \n",
       "1  6 Meadow Vale Court    2153.0  New South Wales  Australia   \n",
       "2                  NaN       NaN              NaN        NaN   \n",
       "3   0 Holy Cross Court    4211.0              QLD  Australia   \n",
       "4  17979 Del Mar Point    2448.0  New South Wales  Australia   \n",
       "\n",
       "   property_valuation  \n",
       "0                10.0  \n",
       "1                10.0  \n",
       "2                 NaN  \n",
       "3                 9.0  \n",
       "4                 4.0  "
      ]
     },
     "execution_count": 9,
     "metadata": {},
     "output_type": "execute_result"
    }
   ],
   "source": [
    "demographic.head()"
   ]
  },
  {
   "cell_type": "code",
   "execution_count": 10,
   "metadata": {},
   "outputs": [
    {
     "data": {
      "text/plain": [
       "100                                       113\n",
       "1                                         112\n",
       "-1                                        111\n",
       "-100                                       99\n",
       "â°â´âµâââ                                  53\n",
       "                                         ... \n",
       "testâ testâ«                               31\n",
       "/dev/null; touch /tmp/blns.fail ; echo     30\n",
       "âªâªtestâª                                 29\n",
       "ì¸ëë°í ë¥´                                 27\n",
       ",ãã»:*:ã»ãâ( â» Ï â» )ãã»:*:ã»ãâ           25\n",
       "Name: default, Length: 90, dtype: int64"
      ]
     },
     "execution_count": 10,
     "metadata": {},
     "output_type": "execute_result"
    }
   ],
   "source": [
    "demographic['default'].value_counts()"
   ]
  },
  {
   "cell_type": "markdown",
   "metadata": {},
   "source": [
    "Dropping the default column "
   ]
  },
  {
   "cell_type": "code",
   "execution_count": 11,
   "metadata": {},
   "outputs": [],
   "source": [
    "drop_col = ['default']\n",
    "demographic = demographic.drop(drop_col,axis=1)"
   ]
  },
  {
   "cell_type": "code",
   "execution_count": 12,
   "metadata": {},
   "outputs": [],
   "source": [
    "Df = demographic[['first_name','last_name']].isin(new_customer_lists)[['first_name','last_name']]"
   ]
  },
  {
   "cell_type": "code",
   "execution_count": 13,
   "metadata": {},
   "outputs": [
    {
     "name": "stdout",
     "output_type": "stream",
     "text": [
      "      first_name  last_name\n",
      "0          False      False\n",
      "1          False      False\n",
      "2          False      False\n",
      "3          False      False\n",
      "4          False      False\n",
      "...          ...        ...\n",
      "3995       False      False\n",
      "3996       False      False\n",
      "3997       False      False\n",
      "3998       False      False\n",
      "3999       False      False\n",
      "\n",
      "[4000 rows x 2 columns]\n"
     ]
    }
   ],
   "source": [
    "print(Df)"
   ]
  },
  {
   "cell_type": "code",
   "execution_count": 14,
   "metadata": {},
   "outputs": [],
   "source": [
    "new_customer_lists.insert(0,'customer_id',range(4004,4004+len(new_customer_lists)))"
   ]
  },
  {
   "cell_type": "code",
   "execution_count": 15,
   "metadata": {},
   "outputs": [
    {
     "data": {
      "text/html": [
       "<div>\n",
       "<style scoped>\n",
       "    .dataframe tbody tr th:only-of-type {\n",
       "        vertical-align: middle;\n",
       "    }\n",
       "\n",
       "    .dataframe tbody tr th {\n",
       "        vertical-align: top;\n",
       "    }\n",
       "\n",
       "    .dataframe thead th {\n",
       "        text-align: right;\n",
       "    }\n",
       "</style>\n",
       "<table border=\"1\" class=\"dataframe\">\n",
       "  <thead>\n",
       "    <tr style=\"text-align: right;\">\n",
       "      <th></th>\n",
       "      <th>customer_id</th>\n",
       "      <th>first_name</th>\n",
       "      <th>last_name</th>\n",
       "      <th>gender</th>\n",
       "      <th>past_3_years_bike_related_purchases</th>\n",
       "      <th>DOB</th>\n",
       "      <th>job_title</th>\n",
       "      <th>job_industry_category</th>\n",
       "      <th>wealth_segment</th>\n",
       "      <th>deceased_indicator</th>\n",
       "      <th>...</th>\n",
       "      <th>state</th>\n",
       "      <th>country</th>\n",
       "      <th>property_valuation</th>\n",
       "      <th>Unnamed: 16</th>\n",
       "      <th>Unnamed: 17</th>\n",
       "      <th>Unnamed: 18</th>\n",
       "      <th>Unnamed: 19</th>\n",
       "      <th>Unnamed: 20</th>\n",
       "      <th>Rank</th>\n",
       "      <th>Value</th>\n",
       "    </tr>\n",
       "  </thead>\n",
       "  <tbody>\n",
       "    <tr>\n",
       "      <td>0</td>\n",
       "      <td>4004</td>\n",
       "      <td>Chickie</td>\n",
       "      <td>Brister</td>\n",
       "      <td>Male</td>\n",
       "      <td>86</td>\n",
       "      <td>1957-07-12</td>\n",
       "      <td>General Manager</td>\n",
       "      <td>Manufacturing</td>\n",
       "      <td>Mass Customer</td>\n",
       "      <td>N</td>\n",
       "      <td>...</td>\n",
       "      <td>QLD</td>\n",
       "      <td>Australia</td>\n",
       "      <td>6</td>\n",
       "      <td>0.56</td>\n",
       "      <td>0.7000</td>\n",
       "      <td>0.8750</td>\n",
       "      <td>0.743750</td>\n",
       "      <td>1</td>\n",
       "      <td>1</td>\n",
       "      <td>1.718750</td>\n",
       "    </tr>\n",
       "    <tr>\n",
       "      <td>1</td>\n",
       "      <td>4005</td>\n",
       "      <td>Morly</td>\n",
       "      <td>Genery</td>\n",
       "      <td>Male</td>\n",
       "      <td>69</td>\n",
       "      <td>1970-03-22</td>\n",
       "      <td>Structural Engineer</td>\n",
       "      <td>Property</td>\n",
       "      <td>Mass Customer</td>\n",
       "      <td>N</td>\n",
       "      <td>...</td>\n",
       "      <td>NSW</td>\n",
       "      <td>Australia</td>\n",
       "      <td>11</td>\n",
       "      <td>0.89</td>\n",
       "      <td>0.8900</td>\n",
       "      <td>1.1125</td>\n",
       "      <td>0.945625</td>\n",
       "      <td>1</td>\n",
       "      <td>1</td>\n",
       "      <td>1.718750</td>\n",
       "    </tr>\n",
       "    <tr>\n",
       "      <td>2</td>\n",
       "      <td>4006</td>\n",
       "      <td>Ardelis</td>\n",
       "      <td>Forrester</td>\n",
       "      <td>Female</td>\n",
       "      <td>10</td>\n",
       "      <td>1974-08-28</td>\n",
       "      <td>Senior Cost Accountant</td>\n",
       "      <td>Financial Services</td>\n",
       "      <td>Affluent Customer</td>\n",
       "      <td>N</td>\n",
       "      <td>...</td>\n",
       "      <td>VIC</td>\n",
       "      <td>Australia</td>\n",
       "      <td>5</td>\n",
       "      <td>1.01</td>\n",
       "      <td>1.0100</td>\n",
       "      <td>1.0100</td>\n",
       "      <td>1.010000</td>\n",
       "      <td>1</td>\n",
       "      <td>1</td>\n",
       "      <td>1.718750</td>\n",
       "    </tr>\n",
       "    <tr>\n",
       "      <td>3</td>\n",
       "      <td>4007</td>\n",
       "      <td>Lucine</td>\n",
       "      <td>Stutt</td>\n",
       "      <td>Female</td>\n",
       "      <td>64</td>\n",
       "      <td>1979-01-28</td>\n",
       "      <td>Account Representative III</td>\n",
       "      <td>Manufacturing</td>\n",
       "      <td>Affluent Customer</td>\n",
       "      <td>N</td>\n",
       "      <td>...</td>\n",
       "      <td>QLD</td>\n",
       "      <td>Australia</td>\n",
       "      <td>1</td>\n",
       "      <td>0.87</td>\n",
       "      <td>1.0875</td>\n",
       "      <td>1.0875</td>\n",
       "      <td>1.087500</td>\n",
       "      <td>4</td>\n",
       "      <td>4</td>\n",
       "      <td>1.703125</td>\n",
       "    </tr>\n",
       "    <tr>\n",
       "      <td>4</td>\n",
       "      <td>4008</td>\n",
       "      <td>Melinda</td>\n",
       "      <td>Hadlee</td>\n",
       "      <td>Female</td>\n",
       "      <td>34</td>\n",
       "      <td>1965-09-21</td>\n",
       "      <td>Financial Analyst</td>\n",
       "      <td>Financial Services</td>\n",
       "      <td>Affluent Customer</td>\n",
       "      <td>N</td>\n",
       "      <td>...</td>\n",
       "      <td>NSW</td>\n",
       "      <td>Australia</td>\n",
       "      <td>9</td>\n",
       "      <td>0.52</td>\n",
       "      <td>0.5200</td>\n",
       "      <td>0.6500</td>\n",
       "      <td>0.650000</td>\n",
       "      <td>4</td>\n",
       "      <td>4</td>\n",
       "      <td>1.703125</td>\n",
       "    </tr>\n",
       "  </tbody>\n",
       "</table>\n",
       "<p>5 rows × 24 columns</p>\n",
       "</div>"
      ],
      "text/plain": [
       "   customer_id first_name  last_name  gender  \\\n",
       "0         4004    Chickie    Brister    Male   \n",
       "1         4005      Morly     Genery    Male   \n",
       "2         4006    Ardelis  Forrester  Female   \n",
       "3         4007     Lucine      Stutt  Female   \n",
       "4         4008    Melinda     Hadlee  Female   \n",
       "\n",
       "   past_3_years_bike_related_purchases        DOB                   job_title  \\\n",
       "0                                   86 1957-07-12             General Manager   \n",
       "1                                   69 1970-03-22         Structural Engineer   \n",
       "2                                   10 1974-08-28      Senior Cost Accountant   \n",
       "3                                   64 1979-01-28  Account Representative III   \n",
       "4                                   34 1965-09-21           Financial Analyst   \n",
       "\n",
       "  job_industry_category     wealth_segment deceased_indicator  ... state  \\\n",
       "0         Manufacturing      Mass Customer                  N  ...   QLD   \n",
       "1              Property      Mass Customer                  N  ...   NSW   \n",
       "2    Financial Services  Affluent Customer                  N  ...   VIC   \n",
       "3         Manufacturing  Affluent Customer                  N  ...   QLD   \n",
       "4    Financial Services  Affluent Customer                  N  ...   NSW   \n",
       "\n",
       "     country property_valuation  Unnamed: 16 Unnamed: 17 Unnamed: 18  \\\n",
       "0  Australia                  6         0.56      0.7000      0.8750   \n",
       "1  Australia                 11         0.89      0.8900      1.1125   \n",
       "2  Australia                  5         1.01      1.0100      1.0100   \n",
       "3  Australia                  1         0.87      1.0875      1.0875   \n",
       "4  Australia                  9         0.52      0.5200      0.6500   \n",
       "\n",
       "   Unnamed: 19  Unnamed: 20  Rank     Value  \n",
       "0     0.743750            1     1  1.718750  \n",
       "1     0.945625            1     1  1.718750  \n",
       "2     1.010000            1     1  1.718750  \n",
       "3     1.087500            4     4  1.703125  \n",
       "4     0.650000            4     4  1.703125  \n",
       "\n",
       "[5 rows x 24 columns]"
      ]
     },
     "execution_count": 15,
     "metadata": {},
     "output_type": "execute_result"
    }
   ],
   "source": [
    "new_customer_lists.head()"
   ]
  },
  {
   "cell_type": "markdown",
   "metadata": {},
   "source": [
    "Concatinating Customer Datas"
   ]
  },
  {
   "cell_type": "code",
   "execution_count": 16,
   "metadata": {},
   "outputs": [
    {
     "name": "stderr",
     "output_type": "stream",
     "text": [
      "C:\\Users\\DELL\\Anaconda3\\lib\\site-packages\\ipykernel_launcher.py:1: FutureWarning: Sorting because non-concatenation axis is not aligned. A future version\n",
      "of pandas will change to not sort by default.\n",
      "\n",
      "To accept the future behavior, pass 'sort=False'.\n",
      "\n",
      "To retain the current behavior and silence the warning, pass 'sort=True'.\n",
      "\n",
      "  \"\"\"Entry point for launching an IPython kernel.\n"
     ]
    }
   ],
   "source": [
    "customer = pd.concat([new_customer_lists,demographic])"
   ]
  },
  {
   "cell_type": "code",
   "execution_count": 17,
   "metadata": {},
   "outputs": [
    {
     "data": {
      "text/html": [
       "<div>\n",
       "<style scoped>\n",
       "    .dataframe tbody tr th:only-of-type {\n",
       "        vertical-align: middle;\n",
       "    }\n",
       "\n",
       "    .dataframe tbody tr th {\n",
       "        vertical-align: top;\n",
       "    }\n",
       "\n",
       "    .dataframe thead th {\n",
       "        text-align: right;\n",
       "    }\n",
       "</style>\n",
       "<table border=\"1\" class=\"dataframe\">\n",
       "  <thead>\n",
       "    <tr style=\"text-align: right;\">\n",
       "      <th></th>\n",
       "      <th>DOB</th>\n",
       "      <th>Rank</th>\n",
       "      <th>Unnamed: 16</th>\n",
       "      <th>Unnamed: 17</th>\n",
       "      <th>Unnamed: 18</th>\n",
       "      <th>Unnamed: 19</th>\n",
       "      <th>Unnamed: 20</th>\n",
       "      <th>Value</th>\n",
       "      <th>address</th>\n",
       "      <th>country</th>\n",
       "      <th>...</th>\n",
       "      <th>job_industry_category</th>\n",
       "      <th>job_title</th>\n",
       "      <th>last_name</th>\n",
       "      <th>owns_car</th>\n",
       "      <th>past_3_years_bike_related_purchases</th>\n",
       "      <th>postcode</th>\n",
       "      <th>property_valuation</th>\n",
       "      <th>state</th>\n",
       "      <th>tenure</th>\n",
       "      <th>wealth_segment</th>\n",
       "    </tr>\n",
       "  </thead>\n",
       "  <tbody>\n",
       "    <tr>\n",
       "      <td>0</td>\n",
       "      <td>1957-07-12</td>\n",
       "      <td>1.0</td>\n",
       "      <td>0.56</td>\n",
       "      <td>0.7000</td>\n",
       "      <td>0.8750</td>\n",
       "      <td>0.743750</td>\n",
       "      <td>1.0</td>\n",
       "      <td>1.718750</td>\n",
       "      <td>45 Shopko Center</td>\n",
       "      <td>Australia</td>\n",
       "      <td>...</td>\n",
       "      <td>Manufacturing</td>\n",
       "      <td>General Manager</td>\n",
       "      <td>Brister</td>\n",
       "      <td>Yes</td>\n",
       "      <td>86</td>\n",
       "      <td>4500.0</td>\n",
       "      <td>6.0</td>\n",
       "      <td>QLD</td>\n",
       "      <td>14.0</td>\n",
       "      <td>Mass Customer</td>\n",
       "    </tr>\n",
       "    <tr>\n",
       "      <td>1</td>\n",
       "      <td>1970-03-22</td>\n",
       "      <td>1.0</td>\n",
       "      <td>0.89</td>\n",
       "      <td>0.8900</td>\n",
       "      <td>1.1125</td>\n",
       "      <td>0.945625</td>\n",
       "      <td>1.0</td>\n",
       "      <td>1.718750</td>\n",
       "      <td>14 Mccormick Park</td>\n",
       "      <td>Australia</td>\n",
       "      <td>...</td>\n",
       "      <td>Property</td>\n",
       "      <td>Structural Engineer</td>\n",
       "      <td>Genery</td>\n",
       "      <td>No</td>\n",
       "      <td>69</td>\n",
       "      <td>2113.0</td>\n",
       "      <td>11.0</td>\n",
       "      <td>NSW</td>\n",
       "      <td>16.0</td>\n",
       "      <td>Mass Customer</td>\n",
       "    </tr>\n",
       "    <tr>\n",
       "      <td>2</td>\n",
       "      <td>1974-08-28</td>\n",
       "      <td>1.0</td>\n",
       "      <td>1.01</td>\n",
       "      <td>1.0100</td>\n",
       "      <td>1.0100</td>\n",
       "      <td>1.010000</td>\n",
       "      <td>1.0</td>\n",
       "      <td>1.718750</td>\n",
       "      <td>5 Colorado Crossing</td>\n",
       "      <td>Australia</td>\n",
       "      <td>...</td>\n",
       "      <td>Financial Services</td>\n",
       "      <td>Senior Cost Accountant</td>\n",
       "      <td>Forrester</td>\n",
       "      <td>No</td>\n",
       "      <td>10</td>\n",
       "      <td>3505.0</td>\n",
       "      <td>5.0</td>\n",
       "      <td>VIC</td>\n",
       "      <td>10.0</td>\n",
       "      <td>Affluent Customer</td>\n",
       "    </tr>\n",
       "    <tr>\n",
       "      <td>3</td>\n",
       "      <td>1979-01-28</td>\n",
       "      <td>4.0</td>\n",
       "      <td>0.87</td>\n",
       "      <td>1.0875</td>\n",
       "      <td>1.0875</td>\n",
       "      <td>1.087500</td>\n",
       "      <td>4.0</td>\n",
       "      <td>1.703125</td>\n",
       "      <td>207 Annamark Plaza</td>\n",
       "      <td>Australia</td>\n",
       "      <td>...</td>\n",
       "      <td>Manufacturing</td>\n",
       "      <td>Account Representative III</td>\n",
       "      <td>Stutt</td>\n",
       "      <td>Yes</td>\n",
       "      <td>64</td>\n",
       "      <td>4814.0</td>\n",
       "      <td>1.0</td>\n",
       "      <td>QLD</td>\n",
       "      <td>5.0</td>\n",
       "      <td>Affluent Customer</td>\n",
       "    </tr>\n",
       "    <tr>\n",
       "      <td>4</td>\n",
       "      <td>1965-09-21</td>\n",
       "      <td>4.0</td>\n",
       "      <td>0.52</td>\n",
       "      <td>0.5200</td>\n",
       "      <td>0.6500</td>\n",
       "      <td>0.650000</td>\n",
       "      <td>4.0</td>\n",
       "      <td>1.703125</td>\n",
       "      <td>115 Montana Place</td>\n",
       "      <td>Australia</td>\n",
       "      <td>...</td>\n",
       "      <td>Financial Services</td>\n",
       "      <td>Financial Analyst</td>\n",
       "      <td>Hadlee</td>\n",
       "      <td>No</td>\n",
       "      <td>34</td>\n",
       "      <td>2093.0</td>\n",
       "      <td>9.0</td>\n",
       "      <td>NSW</td>\n",
       "      <td>19.0</td>\n",
       "      <td>Affluent Customer</td>\n",
       "    </tr>\n",
       "  </tbody>\n",
       "</table>\n",
       "<p>5 rows × 24 columns</p>\n",
       "</div>"
      ],
      "text/plain": [
       "         DOB  Rank  Unnamed: 16  Unnamed: 17  Unnamed: 18  Unnamed: 19  \\\n",
       "0 1957-07-12   1.0         0.56       0.7000       0.8750     0.743750   \n",
       "1 1970-03-22   1.0         0.89       0.8900       1.1125     0.945625   \n",
       "2 1974-08-28   1.0         1.01       1.0100       1.0100     1.010000   \n",
       "3 1979-01-28   4.0         0.87       1.0875       1.0875     1.087500   \n",
       "4 1965-09-21   4.0         0.52       0.5200       0.6500     0.650000   \n",
       "\n",
       "   Unnamed: 20     Value              address    country  ...  \\\n",
       "0          1.0  1.718750     45 Shopko Center  Australia  ...   \n",
       "1          1.0  1.718750    14 Mccormick Park  Australia  ...   \n",
       "2          1.0  1.718750  5 Colorado Crossing  Australia  ...   \n",
       "3          4.0  1.703125   207 Annamark Plaza  Australia  ...   \n",
       "4          4.0  1.703125    115 Montana Place  Australia  ...   \n",
       "\n",
       "   job_industry_category                   job_title  last_name owns_car  \\\n",
       "0          Manufacturing             General Manager    Brister      Yes   \n",
       "1               Property         Structural Engineer     Genery       No   \n",
       "2     Financial Services      Senior Cost Accountant  Forrester       No   \n",
       "3          Manufacturing  Account Representative III      Stutt      Yes   \n",
       "4     Financial Services           Financial Analyst     Hadlee       No   \n",
       "\n",
       "  past_3_years_bike_related_purchases postcode property_valuation state  \\\n",
       "0                                  86   4500.0                6.0   QLD   \n",
       "1                                  69   2113.0               11.0   NSW   \n",
       "2                                  10   3505.0                5.0   VIC   \n",
       "3                                  64   4814.0                1.0   QLD   \n",
       "4                                  34   2093.0                9.0   NSW   \n",
       "\n",
       "   tenure     wealth_segment  \n",
       "0    14.0      Mass Customer  \n",
       "1    16.0      Mass Customer  \n",
       "2    10.0  Affluent Customer  \n",
       "3     5.0  Affluent Customer  \n",
       "4    19.0  Affluent Customer  \n",
       "\n",
       "[5 rows x 24 columns]"
      ]
     },
     "execution_count": 17,
     "metadata": {},
     "output_type": "execute_result"
    }
   ],
   "source": [
    "customer.head()"
   ]
  },
  {
   "cell_type": "code",
   "execution_count": 18,
   "metadata": {},
   "outputs": [
    {
     "name": "stdout",
     "output_type": "stream",
     "text": [
      "shape of data (5000, 24)\n"
     ]
    }
   ],
   "source": [
    "print('shape of data',customer.shape)"
   ]
  },
  {
   "cell_type": "code",
   "execution_count": 19,
   "metadata": {},
   "outputs": [
    {
     "name": "stdout",
     "output_type": "stream",
     "text": [
      "customer data Index(['DOB', 'Rank', 'Unnamed: 16', 'Unnamed: 17', 'Unnamed: 18',\n",
      "       'Unnamed: 19', 'Unnamed: 20', 'Value', 'address', 'country',\n",
      "       'customer_id', 'deceased_indicator', 'first_name', 'gender',\n",
      "       'job_industry_category', 'job_title', 'last_name', 'owns_car',\n",
      "       'past_3_years_bike_related_purchases', 'postcode', 'property_valuation',\n",
      "       'state', 'tenure', 'wealth_segment'],\n",
      "      dtype='object')\n"
     ]
    }
   ],
   "source": [
    "print('customer data',customer.columns)"
   ]
  },
  {
   "cell_type": "code",
   "execution_count": 20,
   "metadata": {},
   "outputs": [
    {
     "data": {
      "text/plain": [
       "DOB                                    datetime64[ns]\n",
       "Rank                                          float64\n",
       "Unnamed: 16                                   float64\n",
       "Unnamed: 17                                   float64\n",
       "Unnamed: 18                                   float64\n",
       "Unnamed: 19                                   float64\n",
       "Unnamed: 20                                   float64\n",
       "Value                                         float64\n",
       "address                                        object\n",
       "country                                        object\n",
       "customer_id                                     int64\n",
       "deceased_indicator                             object\n",
       "first_name                                     object\n",
       "gender                                         object\n",
       "job_industry_category                          object\n",
       "job_title                                      object\n",
       "last_name                                      object\n",
       "owns_car                                       object\n",
       "past_3_years_bike_related_purchases             int64\n",
       "postcode                                      float64\n",
       "property_valuation                            float64\n",
       "state                                          object\n",
       "tenure                                        float64\n",
       "wealth_segment                                 object\n",
       "dtype: object"
      ]
     },
     "execution_count": 20,
     "metadata": {},
     "output_type": "execute_result"
    }
   ],
   "source": [
    "customer.dtypes"
   ]
  },
  {
   "cell_type": "markdown",
   "metadata": {},
   "source": [
    "Data Preprocessing"
   ]
  },
  {
   "cell_type": "code",
   "execution_count": 21,
   "metadata": {},
   "outputs": [
    {
     "name": "stdout",
     "output_type": "stream",
     "text": [
      "DOB                                     104\n",
      "Rank                                   4000\n",
      "Unnamed: 16                            4000\n",
      "Unnamed: 17                            4000\n",
      "Unnamed: 18                            4000\n",
      "Unnamed: 19                            4000\n",
      "Unnamed: 20                            4000\n",
      "Value                                  4000\n",
      "address                                   4\n",
      "country                                   4\n",
      "customer_id                               0\n",
      "deceased_indicator                        0\n",
      "first_name                                0\n",
      "gender                                    0\n",
      "job_industry_category                   821\n",
      "job_title                               612\n",
      "last_name                               154\n",
      "owns_car                                  0\n",
      "past_3_years_bike_related_purchases       0\n",
      "postcode                                  4\n",
      "property_valuation                        4\n",
      "state                                     4\n",
      "tenure                                   87\n",
      "wealth_segment                            0\n",
      "dtype: int64\n"
     ]
    }
   ],
   "source": [
    "print(customer.isnull().sum())"
   ]
  },
  {
   "cell_type": "code",
   "execution_count": 22,
   "metadata": {},
   "outputs": [
    {
     "data": {
      "text/plain": [
       "<matplotlib.axes._subplots.AxesSubplot at 0x1d3f4079488>"
      ]
     },
     "execution_count": 22,
     "metadata": {},
     "output_type": "execute_result"
    },
    {
     "data": {
      "image/png": "[encoded data removed]",
      "text/plain": [
       "<Figure size 432x288 with 2 Axes>"
      ]
     },
     "metadata": {
      "needs_background": "light"
     },
     "output_type": "display_data"
    }
   ],
   "source": [
    "sns.heatmap(customer.corr(),annot=True)"
   ]
  },
  {
   "cell_type": "code",
   "execution_count": 23,
   "metadata": {},
   "outputs": [
    {
     "data": {
      "text/plain": [
       "<matplotlib.axes._subplots.AxesSubplot at 0x1d3f36c8ec8>"
      ]
     },
     "execution_count": 23,
     "metadata": {},
     "output_type": "execute_result"
    },
    {
     "data": {
      "image/png": "[encoded data removed]",
      "text/plain": [
       "<Figure size 432x288 with 1 Axes>"
      ]
     },
     "metadata": {
      "needs_background": "light"
     },
     "output_type": "display_data"
    }
   ],
   "source": [
    "sns.heatmap(customer.isnull(),cbar = False,cmap='rainbow')"
   ]
  },
  {
   "cell_type": "code",
   "execution_count": 24,
   "metadata": {},
   "outputs": [],
   "source": [
    "drop_col = ['Rank','Value']\n",
    "customer = customer.drop(drop_col,axis=1)"
   ]
  },
  {
   "cell_type": "code",
   "execution_count": 25,
   "metadata": {},
   "outputs": [],
   "source": [
    "customer['job_title'].fillna('unkonwn',inplace=True)\n",
    "customer['job_industry_category'].fillna('unknown',inplace=True)\n",
    "customer['last_name'].fillna('unknown',inplace=True)"
   ]
  },
  {
   "cell_type": "code",
   "execution_count": 26,
   "metadata": {},
   "outputs": [],
   "source": [
    "customer['tenure'].fillna((customer['tenure'].mean()),inplace=True)"
   ]
  },
  {
   "cell_type": "code",
   "execution_count": 27,
   "metadata": {},
   "outputs": [],
   "source": [
    "def age(date):\n",
    "    age=(pd.to_datetime('today').year-pd.to_datetime(date).year)\n",
    "    return age\n",
    "customer['age'] = customer['DOB'].apply(age)\n",
    "customer= customer.drop('DOB',axis=1)"
   ]
  },
  {
   "cell_type": "code",
   "execution_count": 28,
   "metadata": {},
   "outputs": [],
   "source": [
    "customer['age'].fillna((customer['age'].mode()[0]), inplace=True)"
   ]
  },
  {
   "cell_type": "code",
   "execution_count": 29,
   "metadata": {},
   "outputs": [
    {
     "data": {
      "text/html": [
       "<div>\n",
       "<style scoped>\n",
       "    .dataframe tbody tr th:only-of-type {\n",
       "        vertical-align: middle;\n",
       "    }\n",
       "\n",
       "    .dataframe tbody tr th {\n",
       "        vertical-align: top;\n",
       "    }\n",
       "\n",
       "    .dataframe thead th {\n",
       "        text-align: right;\n",
       "    }\n",
       "</style>\n",
       "<table border=\"1\" class=\"dataframe\">\n",
       "  <thead>\n",
       "    <tr style=\"text-align: right;\">\n",
       "      <th></th>\n",
       "      <th>Unnamed: 16</th>\n",
       "      <th>Unnamed: 17</th>\n",
       "      <th>Unnamed: 18</th>\n",
       "      <th>Unnamed: 19</th>\n",
       "      <th>Unnamed: 20</th>\n",
       "      <th>address</th>\n",
       "      <th>country</th>\n",
       "      <th>customer_id</th>\n",
       "      <th>deceased_indicator</th>\n",
       "      <th>first_name</th>\n",
       "      <th>...</th>\n",
       "      <th>job_title</th>\n",
       "      <th>last_name</th>\n",
       "      <th>owns_car</th>\n",
       "      <th>past_3_years_bike_related_purchases</th>\n",
       "      <th>postcode</th>\n",
       "      <th>property_valuation</th>\n",
       "      <th>state</th>\n",
       "      <th>tenure</th>\n",
       "      <th>wealth_segment</th>\n",
       "      <th>age</th>\n",
       "    </tr>\n",
       "  </thead>\n",
       "  <tbody>\n",
       "    <tr>\n",
       "      <td>0</td>\n",
       "      <td>0.56</td>\n",
       "      <td>0.7000</td>\n",
       "      <td>0.8750</td>\n",
       "      <td>0.743750</td>\n",
       "      <td>1.0</td>\n",
       "      <td>45 Shopko Center</td>\n",
       "      <td>Australia</td>\n",
       "      <td>4004</td>\n",
       "      <td>N</td>\n",
       "      <td>Chickie</td>\n",
       "      <td>...</td>\n",
       "      <td>General Manager</td>\n",
       "      <td>Brister</td>\n",
       "      <td>Yes</td>\n",
       "      <td>86</td>\n",
       "      <td>4500.0</td>\n",
       "      <td>6.0</td>\n",
       "      <td>QLD</td>\n",
       "      <td>14.0</td>\n",
       "      <td>Mass Customer</td>\n",
       "      <td>64.0</td>\n",
       "    </tr>\n",
       "    <tr>\n",
       "      <td>1</td>\n",
       "      <td>0.89</td>\n",
       "      <td>0.8900</td>\n",
       "      <td>1.1125</td>\n",
       "      <td>0.945625</td>\n",
       "      <td>1.0</td>\n",
       "      <td>14 Mccormick Park</td>\n",
       "      <td>Australia</td>\n",
       "      <td>4005</td>\n",
       "      <td>N</td>\n",
       "      <td>Morly</td>\n",
       "      <td>...</td>\n",
       "      <td>Structural Engineer</td>\n",
       "      <td>Genery</td>\n",
       "      <td>No</td>\n",
       "      <td>69</td>\n",
       "      <td>2113.0</td>\n",
       "      <td>11.0</td>\n",
       "      <td>NSW</td>\n",
       "      <td>16.0</td>\n",
       "      <td>Mass Customer</td>\n",
       "      <td>51.0</td>\n",
       "    </tr>\n",
       "    <tr>\n",
       "      <td>2</td>\n",
       "      <td>1.01</td>\n",
       "      <td>1.0100</td>\n",
       "      <td>1.0100</td>\n",
       "      <td>1.010000</td>\n",
       "      <td>1.0</td>\n",
       "      <td>5 Colorado Crossing</td>\n",
       "      <td>Australia</td>\n",
       "      <td>4006</td>\n",
       "      <td>N</td>\n",
       "      <td>Ardelis</td>\n",
       "      <td>...</td>\n",
       "      <td>Senior Cost Accountant</td>\n",
       "      <td>Forrester</td>\n",
       "      <td>No</td>\n",
       "      <td>10</td>\n",
       "      <td>3505.0</td>\n",
       "      <td>5.0</td>\n",
       "      <td>VIC</td>\n",
       "      <td>10.0</td>\n",
       "      <td>Affluent Customer</td>\n",
       "      <td>47.0</td>\n",
       "    </tr>\n",
       "    <tr>\n",
       "      <td>3</td>\n",
       "      <td>0.87</td>\n",
       "      <td>1.0875</td>\n",
       "      <td>1.0875</td>\n",
       "      <td>1.087500</td>\n",
       "      <td>4.0</td>\n",
       "      <td>207 Annamark Plaza</td>\n",
       "      <td>Australia</td>\n",
       "      <td>4007</td>\n",
       "      <td>N</td>\n",
       "      <td>Lucine</td>\n",
       "      <td>...</td>\n",
       "      <td>Account Representative III</td>\n",
       "      <td>Stutt</td>\n",
       "      <td>Yes</td>\n",
       "      <td>64</td>\n",
       "      <td>4814.0</td>\n",
       "      <td>1.0</td>\n",
       "      <td>QLD</td>\n",
       "      <td>5.0</td>\n",
       "      <td>Affluent Customer</td>\n",
       "      <td>42.0</td>\n",
       "    </tr>\n",
       "    <tr>\n",
       "      <td>4</td>\n",
       "      <td>0.52</td>\n",
       "      <td>0.5200</td>\n",
       "      <td>0.6500</td>\n",
       "      <td>0.650000</td>\n",
       "      <td>4.0</td>\n",
       "      <td>115 Montana Place</td>\n",
       "      <td>Australia</td>\n",
       "      <td>4008</td>\n",
       "      <td>N</td>\n",
       "      <td>Melinda</td>\n",
       "      <td>...</td>\n",
       "      <td>Financial Analyst</td>\n",
       "      <td>Hadlee</td>\n",
       "      <td>No</td>\n",
       "      <td>34</td>\n",
       "      <td>2093.0</td>\n",
       "      <td>9.0</td>\n",
       "      <td>NSW</td>\n",
       "      <td>19.0</td>\n",
       "      <td>Affluent Customer</td>\n",
       "      <td>56.0</td>\n",
       "    </tr>\n",
       "  </tbody>\n",
       "</table>\n",
       "<p>5 rows × 22 columns</p>\n",
       "</div>"
      ],
      "text/plain": [
       "   Unnamed: 16  Unnamed: 17  Unnamed: 18  Unnamed: 19  Unnamed: 20  \\\n",
       "0         0.56       0.7000       0.8750     0.743750          1.0   \n",
       "1         0.89       0.8900       1.1125     0.945625          1.0   \n",
       "2         1.01       1.0100       1.0100     1.010000          1.0   \n",
       "3         0.87       1.0875       1.0875     1.087500          4.0   \n",
       "4         0.52       0.5200       0.6500     0.650000          4.0   \n",
       "\n",
       "               address    country  customer_id deceased_indicator first_name  \\\n",
       "0     45 Shopko Center  Australia         4004                  N    Chickie   \n",
       "1    14 Mccormick Park  Australia         4005                  N      Morly   \n",
       "2  5 Colorado Crossing  Australia         4006                  N    Ardelis   \n",
       "3   207 Annamark Plaza  Australia         4007                  N     Lucine   \n",
       "4    115 Montana Place  Australia         4008                  N    Melinda   \n",
       "\n",
       "   ...                   job_title  last_name owns_car  \\\n",
       "0  ...             General Manager    Brister      Yes   \n",
       "1  ...         Structural Engineer     Genery       No   \n",
       "2  ...      Senior Cost Accountant  Forrester       No   \n",
       "3  ...  Account Representative III      Stutt      Yes   \n",
       "4  ...           Financial Analyst     Hadlee       No   \n",
       "\n",
       "  past_3_years_bike_related_purchases postcode  property_valuation  state  \\\n",
       "0                                  86   4500.0                 6.0    QLD   \n",
       "1                                  69   2113.0                11.0    NSW   \n",
       "2                                  10   3505.0                 5.0    VIC   \n",
       "3                                  64   4814.0                 1.0    QLD   \n",
       "4                                  34   2093.0                 9.0    NSW   \n",
       "\n",
       "   tenure     wealth_segment   age  \n",
       "0    14.0      Mass Customer  64.0  \n",
       "1    16.0      Mass Customer  51.0  \n",
       "2    10.0  Affluent Customer  47.0  \n",
       "3     5.0  Affluent Customer  42.0  \n",
       "4    19.0  Affluent Customer  56.0  \n",
       "\n",
       "[5 rows x 22 columns]"
      ]
     },
     "execution_count": 29,
     "metadata": {},
     "output_type": "execute_result"
    }
   ],
   "source": [
    "customer.head()"
   ]
  },
  {
   "cell_type": "code",
   "execution_count": 30,
   "metadata": {},
   "outputs": [
    {
     "data": {
      "text/html": [
       "<div>\n",
       "<style scoped>\n",
       "    .dataframe tbody tr th:only-of-type {\n",
       "        vertical-align: middle;\n",
       "    }\n",
       "\n",
       "    .dataframe tbody tr th {\n",
       "        vertical-align: top;\n",
       "    }\n",
       "\n",
       "    .dataframe thead th {\n",
       "        text-align: right;\n",
       "    }\n",
       "</style>\n",
       "<table border=\"1\" class=\"dataframe\">\n",
       "  <thead>\n",
       "    <tr style=\"text-align: right;\">\n",
       "      <th></th>\n",
       "      <th>Unnamed: 16</th>\n",
       "      <th>Unnamed: 17</th>\n",
       "      <th>Unnamed: 18</th>\n",
       "      <th>Unnamed: 19</th>\n",
       "      <th>Unnamed: 20</th>\n",
       "      <th>address</th>\n",
       "      <th>country</th>\n",
       "      <th>customer_id</th>\n",
       "      <th>deceased_indicator</th>\n",
       "      <th>first_name</th>\n",
       "      <th>...</th>\n",
       "      <th>job_title</th>\n",
       "      <th>last_name</th>\n",
       "      <th>owns_car</th>\n",
       "      <th>past_3_years_bike_related_purchases</th>\n",
       "      <th>postcode</th>\n",
       "      <th>property_valuation</th>\n",
       "      <th>state</th>\n",
       "      <th>tenure</th>\n",
       "      <th>wealth_segment</th>\n",
       "      <th>age</th>\n",
       "    </tr>\n",
       "  </thead>\n",
       "  <tbody>\n",
       "    <tr>\n",
       "      <td>0</td>\n",
       "      <td>0.56</td>\n",
       "      <td>0.700</td>\n",
       "      <td>0.8750</td>\n",
       "      <td>0.743750</td>\n",
       "      <td>1.0</td>\n",
       "      <td>45 Shopko Center</td>\n",
       "      <td>Australia</td>\n",
       "      <td>4004</td>\n",
       "      <td>N</td>\n",
       "      <td>Chickie</td>\n",
       "      <td>...</td>\n",
       "      <td>General Manager</td>\n",
       "      <td>Brister</td>\n",
       "      <td>Yes</td>\n",
       "      <td>86</td>\n",
       "      <td>4500.0</td>\n",
       "      <td>6.0</td>\n",
       "      <td>QLD</td>\n",
       "      <td>14.0</td>\n",
       "      <td>Mass Customer</td>\n",
       "      <td>64.0</td>\n",
       "    </tr>\n",
       "    <tr>\n",
       "      <td>157</td>\n",
       "      <td>0.85</td>\n",
       "      <td>0.850</td>\n",
       "      <td>1.0625</td>\n",
       "      <td>0.903125</td>\n",
       "      <td>158.0</td>\n",
       "      <td>33652 Lyons Alley</td>\n",
       "      <td>Australia</td>\n",
       "      <td>4161</td>\n",
       "      <td>N</td>\n",
       "      <td>Roseanne</td>\n",
       "      <td>...</td>\n",
       "      <td>Programmer Analyst III</td>\n",
       "      <td>Caruth</td>\n",
       "      <td>No</td>\n",
       "      <td>16</td>\n",
       "      <td>2763.0</td>\n",
       "      <td>9.0</td>\n",
       "      <td>NSW</td>\n",
       "      <td>7.0</td>\n",
       "      <td>Mass Customer</td>\n",
       "      <td>64.0</td>\n",
       "    </tr>\n",
       "    <tr>\n",
       "      <td>243</td>\n",
       "      <td>0.94</td>\n",
       "      <td>0.940</td>\n",
       "      <td>0.9400</td>\n",
       "      <td>0.799000</td>\n",
       "      <td>244.0</td>\n",
       "      <td>5 High Crossing Junction</td>\n",
       "      <td>Australia</td>\n",
       "      <td>4247</td>\n",
       "      <td>N</td>\n",
       "      <td>Solomon</td>\n",
       "      <td>...</td>\n",
       "      <td>Junior Executive</td>\n",
       "      <td>Bruck</td>\n",
       "      <td>No</td>\n",
       "      <td>29</td>\n",
       "      <td>4556.0</td>\n",
       "      <td>8.0</td>\n",
       "      <td>QLD</td>\n",
       "      <td>12.0</td>\n",
       "      <td>Mass Customer</td>\n",
       "      <td>64.0</td>\n",
       "    </tr>\n",
       "    <tr>\n",
       "      <td>285</td>\n",
       "      <td>0.82</td>\n",
       "      <td>1.025</td>\n",
       "      <td>1.0250</td>\n",
       "      <td>1.025000</td>\n",
       "      <td>285.0</td>\n",
       "      <td>8427 Moulton Place</td>\n",
       "      <td>Australia</td>\n",
       "      <td>4289</td>\n",
       "      <td>N</td>\n",
       "      <td>Bink</td>\n",
       "      <td>...</td>\n",
       "      <td>Payment Adjustment Coordinator</td>\n",
       "      <td>Bentje</td>\n",
       "      <td>Yes</td>\n",
       "      <td>3</td>\n",
       "      <td>2680.0</td>\n",
       "      <td>3.0</td>\n",
       "      <td>NSW</td>\n",
       "      <td>19.0</td>\n",
       "      <td>High Net Worth</td>\n",
       "      <td>64.0</td>\n",
       "    </tr>\n",
       "    <tr>\n",
       "      <td>316</td>\n",
       "      <td>0.66</td>\n",
       "      <td>0.825</td>\n",
       "      <td>0.8250</td>\n",
       "      <td>0.701250</td>\n",
       "      <td>312.0</td>\n",
       "      <td>19 Debs Parkway</td>\n",
       "      <td>Australia</td>\n",
       "      <td>4320</td>\n",
       "      <td>N</td>\n",
       "      <td>Audry</td>\n",
       "      <td>...</td>\n",
       "      <td>Pharmacist</td>\n",
       "      <td>Fann</td>\n",
       "      <td>Yes</td>\n",
       "      <td>3</td>\n",
       "      <td>3029.0</td>\n",
       "      <td>6.0</td>\n",
       "      <td>VIC</td>\n",
       "      <td>15.0</td>\n",
       "      <td>Mass Customer</td>\n",
       "      <td>64.0</td>\n",
       "    </tr>\n",
       "    <tr>\n",
       "      <td>...</td>\n",
       "      <td>...</td>\n",
       "      <td>...</td>\n",
       "      <td>...</td>\n",
       "      <td>...</td>\n",
       "      <td>...</td>\n",
       "      <td>...</td>\n",
       "      <td>...</td>\n",
       "      <td>...</td>\n",
       "      <td>...</td>\n",
       "      <td>...</td>\n",
       "      <td>...</td>\n",
       "      <td>...</td>\n",
       "      <td>...</td>\n",
       "      <td>...</td>\n",
       "      <td>...</td>\n",
       "      <td>...</td>\n",
       "      <td>...</td>\n",
       "      <td>...</td>\n",
       "      <td>...</td>\n",
       "      <td>...</td>\n",
       "      <td>...</td>\n",
       "    </tr>\n",
       "    <tr>\n",
       "      <td>3792</td>\n",
       "      <td>NaN</td>\n",
       "      <td>NaN</td>\n",
       "      <td>NaN</td>\n",
       "      <td>NaN</td>\n",
       "      <td>NaN</td>\n",
       "      <td>249 Anderson Street</td>\n",
       "      <td>Australia</td>\n",
       "      <td>3793</td>\n",
       "      <td>N</td>\n",
       "      <td>Shannen</td>\n",
       "      <td>...</td>\n",
       "      <td>Engineer IV</td>\n",
       "      <td>Pitcock</td>\n",
       "      <td>Yes</td>\n",
       "      <td>49</td>\n",
       "      <td>2153.0</td>\n",
       "      <td>10.0</td>\n",
       "      <td>NSW</td>\n",
       "      <td>15.0</td>\n",
       "      <td>Affluent Customer</td>\n",
       "      <td>64.0</td>\n",
       "    </tr>\n",
       "    <tr>\n",
       "      <td>3816</td>\n",
       "      <td>NaN</td>\n",
       "      <td>NaN</td>\n",
       "      <td>NaN</td>\n",
       "      <td>NaN</td>\n",
       "      <td>NaN</td>\n",
       "      <td>7681 Waywood Alley</td>\n",
       "      <td>Australia</td>\n",
       "      <td>3817</td>\n",
       "      <td>N</td>\n",
       "      <td>Tuckie</td>\n",
       "      <td>...</td>\n",
       "      <td>VP Product Management</td>\n",
       "      <td>unknown</td>\n",
       "      <td>No</td>\n",
       "      <td>65</td>\n",
       "      <td>3860.0</td>\n",
       "      <td>1.0</td>\n",
       "      <td>VIC</td>\n",
       "      <td>13.0</td>\n",
       "      <td>High Net Worth</td>\n",
       "      <td>64.0</td>\n",
       "    </tr>\n",
       "    <tr>\n",
       "      <td>3871</td>\n",
       "      <td>NaN</td>\n",
       "      <td>NaN</td>\n",
       "      <td>NaN</td>\n",
       "      <td>NaN</td>\n",
       "      <td>NaN</td>\n",
       "      <td>1323 Maywood Plaza</td>\n",
       "      <td>Australia</td>\n",
       "      <td>3872</td>\n",
       "      <td>N</td>\n",
       "      <td>Wilma</td>\n",
       "      <td>...</td>\n",
       "      <td>Sales Representative</td>\n",
       "      <td>Budcock</td>\n",
       "      <td>Yes</td>\n",
       "      <td>14</td>\n",
       "      <td>2226.0</td>\n",
       "      <td>10.0</td>\n",
       "      <td>NSW</td>\n",
       "      <td>12.0</td>\n",
       "      <td>High Net Worth</td>\n",
       "      <td>64.0</td>\n",
       "    </tr>\n",
       "    <tr>\n",
       "      <td>3955</td>\n",
       "      <td>NaN</td>\n",
       "      <td>NaN</td>\n",
       "      <td>NaN</td>\n",
       "      <td>NaN</td>\n",
       "      <td>NaN</td>\n",
       "      <td>86906 Hauk Trail</td>\n",
       "      <td>Australia</td>\n",
       "      <td>3956</td>\n",
       "      <td>N</td>\n",
       "      <td>Hector</td>\n",
       "      <td>...</td>\n",
       "      <td>Administrative Assistant III</td>\n",
       "      <td>Poundsford</td>\n",
       "      <td>Yes</td>\n",
       "      <td>54</td>\n",
       "      <td>4163.0</td>\n",
       "      <td>8.0</td>\n",
       "      <td>QLD</td>\n",
       "      <td>12.0</td>\n",
       "      <td>Mass Customer</td>\n",
       "      <td>64.0</td>\n",
       "    </tr>\n",
       "    <tr>\n",
       "      <td>3975</td>\n",
       "      <td>NaN</td>\n",
       "      <td>NaN</td>\n",
       "      <td>NaN</td>\n",
       "      <td>NaN</td>\n",
       "      <td>NaN</td>\n",
       "      <td>07 Morning Court</td>\n",
       "      <td>Australia</td>\n",
       "      <td>3976</td>\n",
       "      <td>N</td>\n",
       "      <td>Gretel</td>\n",
       "      <td>...</td>\n",
       "      <td>Internal Auditor</td>\n",
       "      <td>Chrystal</td>\n",
       "      <td>Yes</td>\n",
       "      <td>0</td>\n",
       "      <td>3805.0</td>\n",
       "      <td>7.0</td>\n",
       "      <td>VIC</td>\n",
       "      <td>13.0</td>\n",
       "      <td>Affluent Customer</td>\n",
       "      <td>64.0</td>\n",
       "    </tr>\n",
       "  </tbody>\n",
       "</table>\n",
       "<p>88 rows × 22 columns</p>\n",
       "</div>"
      ],
      "text/plain": [
       "      Unnamed: 16  Unnamed: 17  Unnamed: 18  Unnamed: 19  Unnamed: 20  \\\n",
       "0            0.56        0.700       0.8750     0.743750          1.0   \n",
       "157          0.85        0.850       1.0625     0.903125        158.0   \n",
       "243          0.94        0.940       0.9400     0.799000        244.0   \n",
       "285          0.82        1.025       1.0250     1.025000        285.0   \n",
       "316          0.66        0.825       0.8250     0.701250        312.0   \n",
       "...           ...          ...          ...          ...          ...   \n",
       "3792          NaN          NaN          NaN          NaN          NaN   \n",
       "3816          NaN          NaN          NaN          NaN          NaN   \n",
       "3871          NaN          NaN          NaN          NaN          NaN   \n",
       "3955          NaN          NaN          NaN          NaN          NaN   \n",
       "3975          NaN          NaN          NaN          NaN          NaN   \n",
       "\n",
       "                       address    country  customer_id deceased_indicator  \\\n",
       "0             45 Shopko Center  Australia         4004                  N   \n",
       "157          33652 Lyons Alley  Australia         4161                  N   \n",
       "243   5 High Crossing Junction  Australia         4247                  N   \n",
       "285         8427 Moulton Place  Australia         4289                  N   \n",
       "316            19 Debs Parkway  Australia         4320                  N   \n",
       "...                        ...        ...          ...                ...   \n",
       "3792       249 Anderson Street  Australia         3793                  N   \n",
       "3816        7681 Waywood Alley  Australia         3817                  N   \n",
       "3871        1323 Maywood Plaza  Australia         3872                  N   \n",
       "3955          86906 Hauk Trail  Australia         3956                  N   \n",
       "3975          07 Morning Court  Australia         3976                  N   \n",
       "\n",
       "     first_name  ...                       job_title   last_name owns_car  \\\n",
       "0       Chickie  ...                 General Manager     Brister      Yes   \n",
       "157    Roseanne  ...          Programmer Analyst III      Caruth       No   \n",
       "243     Solomon  ...                Junior Executive       Bruck       No   \n",
       "285        Bink  ...  Payment Adjustment Coordinator      Bentje      Yes   \n",
       "316       Audry  ...                      Pharmacist        Fann      Yes   \n",
       "...         ...  ...                             ...         ...      ...   \n",
       "3792    Shannen  ...                     Engineer IV     Pitcock      Yes   \n",
       "3816     Tuckie  ...           VP Product Management     unknown       No   \n",
       "3871      Wilma  ...            Sales Representative     Budcock      Yes   \n",
       "3955     Hector  ...    Administrative Assistant III  Poundsford      Yes   \n",
       "3975     Gretel  ...                Internal Auditor    Chrystal      Yes   \n",
       "\n",
       "     past_3_years_bike_related_purchases postcode  property_valuation  state  \\\n",
       "0                                     86   4500.0                 6.0    QLD   \n",
       "157                                   16   2763.0                 9.0    NSW   \n",
       "243                                   29   4556.0                 8.0    QLD   \n",
       "285                                    3   2680.0                 3.0    NSW   \n",
       "316                                    3   3029.0                 6.0    VIC   \n",
       "...                                  ...      ...                 ...    ...   \n",
       "3792                                  49   2153.0                10.0    NSW   \n",
       "3816                                  65   3860.0                 1.0    VIC   \n",
       "3871                                  14   2226.0                10.0    NSW   \n",
       "3955                                  54   4163.0                 8.0    QLD   \n",
       "3975                                   0   3805.0                 7.0    VIC   \n",
       "\n",
       "      tenure     wealth_segment   age  \n",
       "0       14.0      Mass Customer  64.0  \n",
       "157      7.0      Mass Customer  64.0  \n",
       "243     12.0      Mass Customer  64.0  \n",
       "285     19.0     High Net Worth  64.0  \n",
       "316     15.0      Mass Customer  64.0  \n",
       "...      ...                ...   ...  \n",
       "3792    15.0  Affluent Customer  64.0  \n",
       "3816    13.0     High Net Worth  64.0  \n",
       "3871    12.0     High Net Worth  64.0  \n",
       "3955    12.0      Mass Customer  64.0  \n",
       "3975    13.0  Affluent Customer  64.0  \n",
       "\n",
       "[88 rows x 22 columns]"
      ]
     },
     "execution_count": 30,
     "metadata": {},
     "output_type": "execute_result"
    }
   ],
   "source": [
    "customer.loc[(customer[\"age\"] == 64)]"
   ]
  },
  {
   "cell_type": "code",
   "execution_count": 31,
   "metadata": {},
   "outputs": [
    {
     "name": "stdout",
     "output_type": "stream",
     "text": [
      "Unnamed: 16                            4000\n",
      "Unnamed: 17                            4000\n",
      "Unnamed: 18                            4000\n",
      "Unnamed: 19                            4000\n",
      "Unnamed: 20                            4000\n",
      "address                                   4\n",
      "country                                   4\n",
      "customer_id                               0\n",
      "deceased_indicator                        0\n",
      "first_name                                0\n",
      "gender                                    0\n",
      "job_industry_category                     0\n",
      "job_title                                 0\n",
      "last_name                                 0\n",
      "owns_car                                  0\n",
      "past_3_years_bike_related_purchases       0\n",
      "postcode                                  4\n",
      "property_valuation                        4\n",
      "state                                     4\n",
      "tenure                                    0\n",
      "wealth_segment                            0\n",
      "age                                       0\n",
      "dtype: int64\n"
     ]
    }
   ],
   "source": [
    "print(customer.isnull().sum())"
   ]
  },
  {
   "cell_type": "code",
   "execution_count": 32,
   "metadata": {},
   "outputs": [
    {
     "name": "stdout",
     "output_type": "stream",
     "text": [
      "0       64.0\n",
      "1       51.0\n",
      "2       47.0\n",
      "3       42.0\n",
      "4       56.0\n",
      "        ... \n",
      "3995    46.0\n",
      "3996    20.0\n",
      "3997    43.0\n",
      "3998    48.0\n",
      "3999    30.0\n",
      "Name: age, Length: 5000, dtype: float64\n"
     ]
    }
   ],
   "source": [
    "print(customer.age)"
   ]
  },
  {
   "cell_type": "code",
   "execution_count": 33,
   "metadata": {},
   "outputs": [
    {
     "name": "stdout",
     "output_type": "stream",
     "text": [
      "no of rows in customer (5000, 22)\n"
     ]
    }
   ],
   "source": [
    "print('no of rows in customer',customer.shape)"
   ]
  },
  {
   "cell_type": "code",
   "execution_count": 34,
   "metadata": {},
   "outputs": [
    {
     "data": {
      "text/plain": [
       "Female    2550\n",
       "Male      2342\n",
       "U          105\n",
       "Femal        1\n",
       "M            1\n",
       "F            1\n",
       "Name: gender, dtype: int64"
      ]
     },
     "execution_count": 34,
     "metadata": {},
     "output_type": "execute_result"
    }
   ],
   "source": [
    "customer['gender'].value_counts()"
   ]
  },
  {
   "cell_type": "code",
   "execution_count": 35,
   "metadata": {},
   "outputs": [
    {
     "name": "stdout",
     "output_type": "stream",
     "text": [
      "Unnamed: 16                            4000\n",
      "Unnamed: 17                            4000\n",
      "Unnamed: 18                            4000\n",
      "Unnamed: 19                            4000\n",
      "Unnamed: 20                            4000\n",
      "address                                   4\n",
      "country                                   4\n",
      "customer_id                               0\n",
      "deceased_indicator                        0\n",
      "first_name                                0\n",
      "gender                                    0\n",
      "job_industry_category                     0\n",
      "job_title                                 0\n",
      "last_name                                 0\n",
      "owns_car                                  0\n",
      "past_3_years_bike_related_purchases       0\n",
      "postcode                                  4\n",
      "property_valuation                        4\n",
      "state                                     4\n",
      "tenure                                    0\n",
      "wealth_segment                            0\n",
      "age                                       0\n",
      "dtype: int64\n"
     ]
    }
   ],
   "source": [
    "print(customer.isnull().sum())"
   ]
  },
  {
   "cell_type": "code",
   "execution_count": 36,
   "metadata": {},
   "outputs": [
    {
     "data": {
      "image/png": "[encoded data removed]",
      "text/plain": [
       "<Figure size 1440x720 with 4 Axes>"
      ]
     },
     "metadata": {
      "needs_background": "light"
     },
     "output_type": "display_data"
    }
   ],
   "source": [
    "plt.figure(figsize=(20, 10))\n",
    "X=customer\n",
    "col = ['past_3_years_bike_related_purchases','property_valuation','tenure','age']\n",
    "\n",
    "for i, col in enumerate(X[col]):\n",
    "    plt.subplot(3, 4, i+1)\n",
    "    x = customer[col]\n",
    "    sns.boxplot(x)\n",
    "    plt.title(col)"
   ]
  },
  {
   "cell_type": "code",
   "execution_count": 37,
   "metadata": {},
   "outputs": [
    {
     "data": {
      "text/plain": [
       "Unnamed: 16                            0.0\n",
       "Unnamed: 17                            0.0\n",
       "Unnamed: 18                            0.0\n",
       "Unnamed: 19                            0.0\n",
       "Unnamed: 20                            0.0\n",
       "address                                0.0\n",
       "country                                0.0\n",
       "customer_id                            0.0\n",
       "deceased_indicator                     0.0\n",
       "first_name                             0.0\n",
       "gender                                 0.0\n",
       "job_industry_category                  0.0\n",
       "job_title                              0.0\n",
       "last_name                              0.0\n",
       "owns_car                               0.0\n",
       "past_3_years_bike_related_purchases    0.0\n",
       "postcode                               0.0\n",
       "property_valuation                     0.0\n",
       "state                                  0.0\n",
       "tenure                                 0.0\n",
       "wealth_segment                         0.0\n",
       "age                                    0.0\n",
       "dtype: float64"
      ]
     },
     "execution_count": 37,
     "metadata": {},
     "output_type": "execute_result"
    }
   ],
   "source": [
    "customer[customer.duplicated()].sum()"
   ]
  },
  {
   "cell_type": "code",
   "execution_count": 38,
   "metadata": {},
   "outputs": [
    {
     "name": "stdout",
     "output_type": "stream",
     "text": [
      "       Unnamed: 16  Unnamed: 17  Unnamed: 18  Unnamed: 19  Unnamed: 20  \\\n",
      "count  1000.000000  1000.000000  1000.000000  1000.000000  1000.000000   \n",
      "mean      0.747340     0.839005     0.942673     0.870514   498.819000   \n",
      "std       0.205082     0.248858     0.294832     0.280891   288.810997   \n",
      "min       0.400000     0.400000     0.400000     0.340000     1.000000   \n",
      "25%       0.570000     0.637500     0.712500     0.658750   250.000000   \n",
      "50%       0.750000     0.820000     0.912500     0.842625   500.000000   \n",
      "75%       0.920000     1.031875     1.142969     1.062500   750.250000   \n",
      "max       1.100000     1.375000     1.718750     1.718750  1000.000000   \n",
      "\n",
      "       customer_id  past_3_years_bike_related_purchases     postcode  \\\n",
      "count   5000.00000                          5000.000000  4996.000000   \n",
      "mean    2501.10000                            49.079200  2992.439151   \n",
      "std     1444.35173                            28.533471   845.758829   \n",
      "min        1.00000                             0.000000  2000.000000   \n",
      "25%     1250.75000                            24.000000  2203.000000   \n",
      "50%     2500.50000                            49.000000  2768.000000   \n",
      "75%     3750.25000                            73.000000  3787.250000   \n",
      "max     5003.00000                            99.000000  4883.000000   \n",
      "\n",
      "       property_valuation       tenure          age  \n",
      "count         4996.000000  5000.000000  5000.000000  \n",
      "mean             7.490592    10.805821    45.175400  \n",
      "std              2.812334     5.497872    13.842838  \n",
      "min              1.000000     0.000000    19.000000  \n",
      "25%              6.000000     6.000000    35.000000  \n",
      "50%              8.000000    11.000000    44.000000  \n",
      "75%             10.000000    15.000000    55.000000  \n",
      "max             12.000000    22.000000   178.000000  \n"
     ]
    }
   ],
   "source": [
    "print(customer.describe())"
   ]
  },
  {
   "cell_type": "markdown",
   "metadata": {},
   "source": [
    "Age"
   ]
  },
  {
   "cell_type": "code",
   "execution_count": 39,
   "metadata": {},
   "outputs": [
    {
     "data": {
      "image/png": "[encoded data removed]",
      "text/plain": [
       "<Figure size 432x288 with 1 Axes>"
      ]
     },
     "metadata": {
      "needs_background": "light"
     },
     "output_type": "display_data"
    }
   ],
   "source": [
    "customer['age_group'] = pd.cut(x=customer['age'],bins=[0,10,20,30,40,50,60,70,80,90],labels=['0-10','10-20','20-30',\n",
    "                                                            '30-40','40-50','50-60','60-70','70-80','80-90'], right=True)\n",
    "sns.countplot(x ='age_group',data=customer)\n",
    "plt.title('Age Group Distribution of Present Customer')\n",
    "plt.show()"
   ]
  },
  {
   "cell_type": "markdown",
   "metadata": {},
   "source": [
    "State"
   ]
  },
  {
   "cell_type": "code",
   "execution_count": 40,
   "metadata": {},
   "outputs": [
    {
     "data": {
      "text/plain": [
       "NSW                2558\n",
       "VIC                1205\n",
       "QLD                1065\n",
       "New South Wales      86\n",
       "Victoria             82\n",
       "Name: state, dtype: int64"
      ]
     },
     "execution_count": 40,
     "metadata": {},
     "output_type": "execute_result"
    }
   ],
   "source": [
    "customer['state'].value_counts()"
   ]
  },
  {
   "cell_type": "code",
   "execution_count": 41,
   "metadata": {},
   "outputs": [
    {
     "data": {
      "image/png": "[encoded data removed]",
      "text/plain": [
       "<Figure size 360x288 with 1 Axes>"
      ]
     },
     "metadata": {
      "needs_background": "light"
     },
     "output_type": "display_data"
    }
   ],
   "source": [
    "plt.figure(figsize=(5,4))\n",
    "plt.xticks(rotation=90)\n",
    "sns.countplot(x=\"state\",data=customer,order = customer['state'].value_counts().index)\n",
    "plt.show()"
   ]
  },
  {
   "cell_type": "markdown",
   "metadata": {},
   "source": [
    "Country"
   ]
  },
  {
   "cell_type": "code",
   "execution_count": 42,
   "metadata": {},
   "outputs": [
    {
     "data": {
      "text/plain": [
       "Australia    4996\n",
       "Name: country, dtype: int64"
      ]
     },
     "execution_count": 42,
     "metadata": {},
     "output_type": "execute_result"
    }
   ],
   "source": [
    "customer['country'].value_counts()"
   ]
  },
  {
   "cell_type": "code",
   "execution_count": 43,
   "metadata": {},
   "outputs": [
    {
     "data": {
      "image/png": "[encoded data removed]",
      "text/plain": [
       "<Figure size 432x288 with 1 Axes>"
      ]
     },
     "metadata": {
      "needs_background": "light"
     },
     "output_type": "display_data"
    }
   ],
   "source": [
    "sns.countplot(x = 'country', data = customer)\n",
    "plt.title('country')\n",
    "plt.show()"
   ]
  },
  {
   "cell_type": "markdown",
   "metadata": {},
   "source": [
    "deceased"
   ]
  },
  {
   "cell_type": "code",
   "execution_count": 44,
   "metadata": {},
   "outputs": [
    {
     "data": {
      "text/plain": [
       "N    4998\n",
       "Y       2\n",
       "Name: deceased_indicator, dtype: int64"
      ]
     },
     "execution_count": 44,
     "metadata": {},
     "output_type": "execute_result"
    }
   ],
   "source": [
    "customer['deceased_indicator'].value_counts()"
   ]
  },
  {
   "cell_type": "markdown",
   "metadata": {},
   "source": [
    "As we have 2 rows in Y category , It doesnt provide much insight. Dropping the column"
   ]
  },
  {
   "cell_type": "code",
   "execution_count": 45,
   "metadata": {},
   "outputs": [],
   "source": [
    "customer.drop(columns='deceased_indicator',inplace=True)"
   ]
  },
  {
   "cell_type": "markdown",
   "metadata": {},
   "source": [
    "Gender"
   ]
  },
  {
   "cell_type": "code",
   "execution_count": 46,
   "metadata": {},
   "outputs": [
    {
     "data": {
      "text/plain": [
       "Female    2550\n",
       "Male      2342\n",
       "U          105\n",
       "Femal        1\n",
       "M            1\n",
       "F            1\n",
       "Name: gender, dtype: int64"
      ]
     },
     "execution_count": 46,
     "metadata": {},
     "output_type": "execute_result"
    }
   ],
   "source": [
    "customer['gender'].value_counts()"
   ]
  },
  {
   "cell_type": "code",
   "execution_count": 47,
   "metadata": {},
   "outputs": [],
   "source": [
    "customer['gender'].replace({'M':'Male','F':'Female','Femal':'Female','U':'Unknown'},inplace=True)"
   ]
  },
  {
   "cell_type": "code",
   "execution_count": 48,
   "metadata": {},
   "outputs": [
    {
     "data": {
      "text/plain": [
       "Female     2552\n",
       "Male       2343\n",
       "Unknown     105\n",
       "Name: gender, dtype: int64"
      ]
     },
     "execution_count": 48,
     "metadata": {},
     "output_type": "execute_result"
    }
   ],
   "source": [
    "customer['gender'].value_counts()"
   ]
  },
  {
   "cell_type": "code",
   "execution_count": 49,
   "metadata": {},
   "outputs": [
    {
     "data": {
      "image/png": "[encoded data removed]",
      "text/plain": [
       "<Figure size 360x288 with 1 Axes>"
      ]
     },
     "metadata": {
      "needs_background": "light"
     },
     "output_type": "display_data"
    }
   ],
   "source": [
    "plt.figure(figsize=(5,4))\n",
    "ax=sns.countplot(\"gender\", data = customer,order = customer['gender'].value_counts().index)\n",
    "plt.xticks(rotation=90)\n",
    "for p in ax.patches:\n",
    "    ax.annotate(format(p.get_height()), (p.get_x()+0.35, p.get_height()+1))\n",
    "plt.show()"
   ]
  },
  {
   "cell_type": "markdown",
   "metadata": {},
   "source": [
    "job_industry_category"
   ]
  },
  {
   "cell_type": "code",
   "execution_count": 50,
   "metadata": {},
   "outputs": [
    {
     "data": {
      "text/plain": [
       "Manufacturing         998\n",
       "Financial Services    977\n",
       "unknown               821\n",
       "Health                754\n",
       "Retail                436\n",
       "Property              331\n",
       "IT                    274\n",
       "Entertainment         173\n",
       "Argiculture           139\n",
       "Telecommunications     97\n",
       "Name: job_industry_category, dtype: int64"
      ]
     },
     "execution_count": 50,
     "metadata": {},
     "output_type": "execute_result"
    }
   ],
   "source": [
    "customer['job_industry_category'].value_counts()"
   ]
  },
  {
   "cell_type": "code",
   "execution_count": 51,
   "metadata": {},
   "outputs": [
    {
     "data": {
      "image/png": "[encoded data removed]",
      "text/plain": [
       "<Figure size 360x288 with 1 Axes>"
      ]
     },
     "metadata": {
      "needs_background": "light"
     },
     "output_type": "display_data"
    }
   ],
   "source": [
    "plt.figure(figsize=(5,4))\n",
    "plt.xticks(rotation=90)\n",
    "sns.countplot(x=\"job_industry_category\",data=customer,order = customer['job_industry_category'].value_counts().index)\n",
    "plt.show()"
   ]
  },
  {
   "cell_type": "markdown",
   "metadata": {},
   "source": [
    "job title"
   ]
  },
  {
   "cell_type": "code",
   "execution_count": 52,
   "metadata": {},
   "outputs": [
    {
     "data": {
      "text/plain": [
       "unkonwn                                 612\n",
       "Social Worker                            55\n",
       "Business Systems Development Analyst     55\n",
       "Associate Professor                      54\n",
       "Recruiting Manager                       50\n",
       "                                       ... \n",
       "Programmer Analyst IV                     5\n",
       "Computer Systems Analyst III              5\n",
       "Geologist II                              4\n",
       "Health Coach I                            4\n",
       "Developer I                               4\n",
       "Name: job_title, Length: 196, dtype: int64"
      ]
     },
     "execution_count": 52,
     "metadata": {},
     "output_type": "execute_result"
    }
   ],
   "source": [
    "customer['job_title'].value_counts()"
   ]
  },
  {
   "cell_type": "markdown",
   "metadata": {},
   "source": [
    "Own Car"
   ]
  },
  {
   "cell_type": "code",
   "execution_count": 53,
   "metadata": {},
   "outputs": [
    {
     "data": {
      "text/plain": [
       "Yes    2517\n",
       "No     2483\n",
       "Name: owns_car, dtype: int64"
      ]
     },
     "execution_count": 53,
     "metadata": {},
     "output_type": "execute_result"
    }
   ],
   "source": [
    "customer['owns_car'].value_counts()"
   ]
  },
  {
   "cell_type": "code",
   "execution_count": 81,
   "metadata": {},
   "outputs": [
    {
     "data": {
      "image/png": "[encoded data removed]",
      "text/plain": [
       "<Figure size 360x288 with 1 Axes>"
      ]
     },
     "metadata": {
      "needs_background": "light"
     },
     "output_type": "display_data"
    }
   ],
   "source": [
    "plt.figure(figsize=(5,4))\n",
    "sns.countplot(x='owns_car',data=customer,order=customer['owns_car'].value_counts().index)\n",
    "plt.show()"
   ]
  },
  {
   "cell_type": "markdown",
   "metadata": {},
   "source": [
    "wealth segment"
   ]
  },
  {
   "cell_type": "code",
   "execution_count": 55,
   "metadata": {},
   "outputs": [
    {
     "data": {
      "text/plain": [
       "Mass Customer        2508\n",
       "High Net Worth       1272\n",
       "Affluent Customer    1220\n",
       "Name: wealth_segment, dtype: int64"
      ]
     },
     "execution_count": 55,
     "metadata": {},
     "output_type": "execute_result"
    }
   ],
   "source": [
    "customer['wealth_segment'].value_counts()"
   ]
  },
  {
   "cell_type": "code",
   "execution_count": 56,
   "metadata": {},
   "outputs": [
    {
     "data": {
      "image/png": "[encoded data removed]",
      "text/plain": [
       "<Figure size 360x288 with 1 Axes>"
      ]
     },
     "metadata": {
      "needs_background": "light"
     },
     "output_type": "display_data"
    }
   ],
   "source": [
    "plt.figure(figsize=(5,4))\n",
    "plt.xticks(rotation=90)\n",
    "sns.countplot(x='wealth_segment',data=customer,order=customer['wealth_segment'].value_counts().index)\n",
    "plt.show()"
   ]
  },
  {
   "cell_type": "code",
   "execution_count": 57,
   "metadata": {},
   "outputs": [
    {
     "data": {
      "text/plain": [
       "<matplotlib.axes._subplots.AxesSubplot at 0x1d3f3787c48>"
      ]
     },
     "execution_count": 57,
     "metadata": {},
     "output_type": "execute_result"
    },
    {
     "data": {
      "image/png": "[encoded data removed]",
      "text/plain": [
       "<Figure size 432x288 with 2 Axes>"
      ]
     },
     "metadata": {
      "needs_background": "light"
     },
     "output_type": "display_data"
    }
   ],
   "source": [
    "sns.heatmap(data=customer.corr(),annot=True,cmap='rainbow')"
   ]
  },
  {
   "cell_type": "markdown",
   "metadata": {},
   "source": [
    "Data Preprocessing "
   ]
  },
  {
   "cell_type": "code",
   "execution_count": 58,
   "metadata": {},
   "outputs": [
    {
     "name": "stdout",
     "output_type": "stream",
     "text": [
      "shape of transactions column is (20000, 13)\n",
      "<class 'pandas.core.frame.DataFrame'>\n",
      "RangeIndex: 20000 entries, 0 to 19999\n",
      "Data columns (total 13 columns):\n",
      "transaction_id             20000 non-null int64\n",
      "product_id                 20000 non-null int64\n",
      "customer_id                20000 non-null int64\n",
      "transaction_date           20000 non-null datetime64[ns]\n",
      "online_order               19640 non-null float64\n",
      "order_status               20000 non-null object\n",
      "brand                      19803 non-null object\n",
      "product_line               19803 non-null object\n",
      "product_class              19803 non-null object\n",
      "product_size               19803 non-null object\n",
      "list_price                 20000 non-null float64\n",
      "standard_cost              19803 non-null float64\n",
      "product_first_sold_date    19803 non-null float64\n",
      "dtypes: datetime64[ns](1), float64(4), int64(3), object(5)\n",
      "memory usage: 2.0+ MB\n"
     ]
    }
   ],
   "source": [
    "print(\"shape of transactions column is\",transactions.shape)\n",
    "transactions.info()"
   ]
  },
  {
   "cell_type": "code",
   "execution_count": 59,
   "metadata": {},
   "outputs": [
    {
     "data": {
      "text/html": [
       "<div>\n",
       "<style scoped>\n",
       "    .dataframe tbody tr th:only-of-type {\n",
       "        vertical-align: middle;\n",
       "    }\n",
       "\n",
       "    .dataframe tbody tr th {\n",
       "        vertical-align: top;\n",
       "    }\n",
       "\n",
       "    .dataframe thead th {\n",
       "        text-align: right;\n",
       "    }\n",
       "</style>\n",
       "<table border=\"1\" class=\"dataframe\">\n",
       "  <thead>\n",
       "    <tr style=\"text-align: right;\">\n",
       "      <th></th>\n",
       "      <th>transaction_id</th>\n",
       "      <th>product_id</th>\n",
       "      <th>customer_id</th>\n",
       "      <th>transaction_date</th>\n",
       "      <th>online_order</th>\n",
       "      <th>order_status</th>\n",
       "      <th>brand</th>\n",
       "      <th>product_line</th>\n",
       "      <th>product_class</th>\n",
       "      <th>product_size</th>\n",
       "      <th>list_price</th>\n",
       "      <th>standard_cost</th>\n",
       "      <th>product_first_sold_date</th>\n",
       "    </tr>\n",
       "  </thead>\n",
       "  <tbody>\n",
       "    <tr>\n",
       "      <td>0</td>\n",
       "      <td>1</td>\n",
       "      <td>2</td>\n",
       "      <td>2950</td>\n",
       "      <td>2017-02-25</td>\n",
       "      <td>0.0</td>\n",
       "      <td>Approved</td>\n",
       "      <td>Solex</td>\n",
       "      <td>Standard</td>\n",
       "      <td>medium</td>\n",
       "      <td>medium</td>\n",
       "      <td>71.49</td>\n",
       "      <td>53.62</td>\n",
       "      <td>41245.0</td>\n",
       "    </tr>\n",
       "    <tr>\n",
       "      <td>1</td>\n",
       "      <td>2</td>\n",
       "      <td>3</td>\n",
       "      <td>3120</td>\n",
       "      <td>2017-05-21</td>\n",
       "      <td>1.0</td>\n",
       "      <td>Approved</td>\n",
       "      <td>Trek Bicycles</td>\n",
       "      <td>Standard</td>\n",
       "      <td>medium</td>\n",
       "      <td>large</td>\n",
       "      <td>2091.47</td>\n",
       "      <td>388.92</td>\n",
       "      <td>41701.0</td>\n",
       "    </tr>\n",
       "    <tr>\n",
       "      <td>2</td>\n",
       "      <td>3</td>\n",
       "      <td>37</td>\n",
       "      <td>402</td>\n",
       "      <td>2017-10-16</td>\n",
       "      <td>0.0</td>\n",
       "      <td>Approved</td>\n",
       "      <td>OHM Cycles</td>\n",
       "      <td>Standard</td>\n",
       "      <td>low</td>\n",
       "      <td>medium</td>\n",
       "      <td>1793.43</td>\n",
       "      <td>248.82</td>\n",
       "      <td>36361.0</td>\n",
       "    </tr>\n",
       "    <tr>\n",
       "      <td>3</td>\n",
       "      <td>4</td>\n",
       "      <td>88</td>\n",
       "      <td>3135</td>\n",
       "      <td>2017-08-31</td>\n",
       "      <td>0.0</td>\n",
       "      <td>Approved</td>\n",
       "      <td>Norco Bicycles</td>\n",
       "      <td>Standard</td>\n",
       "      <td>medium</td>\n",
       "      <td>medium</td>\n",
       "      <td>1198.46</td>\n",
       "      <td>381.10</td>\n",
       "      <td>36145.0</td>\n",
       "    </tr>\n",
       "    <tr>\n",
       "      <td>4</td>\n",
       "      <td>5</td>\n",
       "      <td>78</td>\n",
       "      <td>787</td>\n",
       "      <td>2017-10-01</td>\n",
       "      <td>1.0</td>\n",
       "      <td>Approved</td>\n",
       "      <td>Giant Bicycles</td>\n",
       "      <td>Standard</td>\n",
       "      <td>medium</td>\n",
       "      <td>large</td>\n",
       "      <td>1765.30</td>\n",
       "      <td>709.48</td>\n",
       "      <td>42226.0</td>\n",
       "    </tr>\n",
       "  </tbody>\n",
       "</table>\n",
       "</div>"
      ],
      "text/plain": [
       "   transaction_id  product_id  customer_id transaction_date  online_order  \\\n",
       "0               1           2         2950       2017-02-25           0.0   \n",
       "1               2           3         3120       2017-05-21           1.0   \n",
       "2               3          37          402       2017-10-16           0.0   \n",
       "3               4          88         3135       2017-08-31           0.0   \n",
       "4               5          78          787       2017-10-01           1.0   \n",
       "\n",
       "  order_status           brand product_line product_class product_size  \\\n",
       "0     Approved           Solex     Standard        medium       medium   \n",
       "1     Approved   Trek Bicycles     Standard        medium        large   \n",
       "2     Approved      OHM Cycles     Standard           low       medium   \n",
       "3     Approved  Norco Bicycles     Standard        medium       medium   \n",
       "4     Approved  Giant Bicycles     Standard        medium        large   \n",
       "\n",
       "   list_price  standard_cost  product_first_sold_date  \n",
       "0       71.49          53.62                  41245.0  \n",
       "1     2091.47         388.92                  41701.0  \n",
       "2     1793.43         248.82                  36361.0  \n",
       "3     1198.46         381.10                  36145.0  \n",
       "4     1765.30         709.48                  42226.0  "
      ]
     },
     "execution_count": 59,
     "metadata": {},
     "output_type": "execute_result"
    }
   ],
   "source": [
    "transactions.head()"
   ]
  },
  {
   "cell_type": "code",
   "execution_count": 60,
   "metadata": {},
   "outputs": [
    {
     "name": "stdout",
     "output_type": "stream",
     "text": [
      "transaction_id               0\n",
      "product_id                   0\n",
      "customer_id                  0\n",
      "transaction_date             0\n",
      "online_order               360\n",
      "order_status                 0\n",
      "brand                      197\n",
      "product_line               197\n",
      "product_class              197\n",
      "product_size               197\n",
      "list_price                   0\n",
      "standard_cost              197\n",
      "product_first_sold_date    197\n",
      "dtype: int64\n"
     ]
    }
   ],
   "source": [
    "print(transactions.isnull().sum())"
   ]
  },
  {
   "cell_type": "code",
   "execution_count": 61,
   "metadata": {},
   "outputs": [
    {
     "data": {
      "text/plain": [
       "<matplotlib.axes._subplots.AxesSubplot at 0x1d3f40c5e08>"
      ]
     },
     "execution_count": 61,
     "metadata": {},
     "output_type": "execute_result"
    },
    {
     "data": {
      "image/png": "[encoded data removed]",
      "text/plain": [
       "<Figure size 432x288 with 2 Axes>"
      ]
     },
     "metadata": {
      "needs_background": "light"
     },
     "output_type": "display_data"
    }
   ],
   "source": [
    "sns.heatmap(data=transactions.isnull(),cmap='rainbow')"
   ]
  },
  {
   "cell_type": "markdown",
   "metadata": {},
   "source": [
    "Null Value Analysis"
   ]
  },
  {
   "cell_type": "code",
   "execution_count": 62,
   "metadata": {},
   "outputs": [],
   "source": [
    "drop_column = ['online_order']\n",
    "transactions = transactions.drop(drop_column,axis=1)"
   ]
  },
  {
   "cell_type": "code",
   "execution_count": 63,
   "metadata": {},
   "outputs": [],
   "source": [
    "transactions.dropna(subset= ['product_first_sold_date'], inplace = True)"
   ]
  },
  {
   "cell_type": "code",
   "execution_count": 64,
   "metadata": {},
   "outputs": [
    {
     "name": "stdout",
     "output_type": "stream",
     "text": [
      "transaction_id             0\n",
      "product_id                 0\n",
      "customer_id                0\n",
      "transaction_date           0\n",
      "order_status               0\n",
      "brand                      0\n",
      "product_line               0\n",
      "product_class              0\n",
      "product_size               0\n",
      "list_price                 0\n",
      "standard_cost              0\n",
      "product_first_sold_date    0\n",
      "dtype: int64\n"
     ]
    }
   ],
   "source": [
    "print(transactions.isnull().sum())"
   ]
  },
  {
   "cell_type": "code",
   "execution_count": 65,
   "metadata": {},
   "outputs": [],
   "source": [
    "transactions['brand'].fillna(value='unknown',inplace=True)\n",
    "transactions['product_line'].fillna(value = 'Unknown', inplace = True)\n",
    "transactions['product_size'].fillna(value = 'Unknown', inplace = True)"
   ]
  },
  {
   "cell_type": "code",
   "execution_count": 66,
   "metadata": {},
   "outputs": [
    {
     "data": {
      "text/plain": [
       "<matplotlib.axes._subplots.AxesSubplot at 0x1d3f3a3c108>"
      ]
     },
     "execution_count": 66,
     "metadata": {},
     "output_type": "execute_result"
    },
    {
     "data": {
      "image/png": "[encoded data removed]",
      "text/plain": [
       "<Figure size 432x288 with 1 Axes>"
      ]
     },
     "metadata": {
      "needs_background": "light"
     },
     "output_type": "display_data"
    }
   ],
   "source": [
    "sns.heatmap(data=transactions.isnull(),cbar=False,cmap='rainbow')"
   ]
  },
  {
   "cell_type": "code",
   "execution_count": 67,
   "metadata": {},
   "outputs": [
    {
     "data": {
      "text/plain": [
       "<matplotlib.axes._subplots.AxesSubplot at 0x1d3f42a3648>"
      ]
     },
     "execution_count": 67,
     "metadata": {},
     "output_type": "execute_result"
    },
    {
     "data": {
      "image/png": "[encoded data removed]",
      "text/plain": [
       "<Figure size 432x288 with 2 Axes>"
      ]
     },
     "metadata": {
      "needs_background": "light"
     },
     "output_type": "display_data"
    }
   ],
   "source": [
    "sns.heatmap(data=transactions.corr(),annot=True)"
   ]
  },
  {
   "cell_type": "code",
   "execution_count": 68,
   "metadata": {},
   "outputs": [
    {
     "data": {
      "image/png": "[encoded data removed]",
      "text/plain": [
       "<Figure size 1440x720 with 3 Axes>"
      ]
     },
     "metadata": {
      "needs_background": "light"
     },
     "output_type": "display_data"
    }
   ],
   "source": [
    "plt.figure(figsize=(20, 10))\n",
    "X=transactions\n",
    "col = ['list_price','customer_id','standard_cost']\n",
    "# i: index\n",
    "for i, col in enumerate(X[col]):\n",
    "    plt.subplot(3, 4, i+1)\n",
    "    x = transactions[col]\n",
    "    sns.boxplot(x)\n",
    "    plt.title(col)\n"
   ]
  },
  {
   "cell_type": "markdown",
   "metadata": {},
   "source": [
    "Exploring Duplicate values"
   ]
  },
  {
   "cell_type": "code",
   "execution_count": 73,
   "metadata": {},
   "outputs": [
    {
     "data": {
      "text/plain": [
       "transaction_id             0.0\n",
       "product_id                 0.0\n",
       "customer_id                0.0\n",
       "transaction_date           0.0\n",
       "order_status               0.0\n",
       "brand                      0.0\n",
       "product_line               0.0\n",
       "product_class              0.0\n",
       "product_size               0.0\n",
       "list_price                 0.0\n",
       "standard_cost              0.0\n",
       "product_first_sold_date    0.0\n",
       "dtype: float64"
      ]
     },
     "execution_count": 73,
     "metadata": {},
     "output_type": "execute_result"
    }
   ],
   "source": [
    "transactions[transactions.duplicated()].sum()"
   ]
  },
  {
   "cell_type": "code",
   "execution_count": 74,
   "metadata": {},
   "outputs": [
    {
     "name": "stdout",
     "output_type": "stream",
     "text": [
      "       transaction_id    product_id   customer_id    list_price  \\\n",
      "count    19803.000000  19803.000000  19803.000000  19803.000000   \n",
      "mean      9993.979650     45.815937   1739.294955   1107.997866   \n",
      "std       5776.499961     30.569841   1011.946353    582.770460   \n",
      "min          1.000000      0.000000      1.000000     12.010000   \n",
      "25%       4988.500000     18.000000    858.000000    575.270000   \n",
      "50%       9995.000000     45.000000   1738.000000   1163.890000   \n",
      "75%      15000.500000     72.000000   2615.000000   1635.300000   \n",
      "max      20000.000000    100.000000   5034.000000   2091.470000   \n",
      "\n",
      "       standard_cost  product_first_sold_date  \n",
      "count   19803.000000             19803.000000  \n",
      "mean      556.046951             38199.776549  \n",
      "std       405.955660              2875.201110  \n",
      "min         7.210000             33259.000000  \n",
      "25%       215.140000             35667.000000  \n",
      "50%       507.580000             38216.000000  \n",
      "75%       795.100000             40672.000000  \n",
      "max      1759.850000             42710.000000  \n"
     ]
    }
   ],
   "source": [
    "print(transactions.describe())"
   ]
  },
  {
   "cell_type": "code",
   "execution_count": 76,
   "metadata": {},
   "outputs": [
    {
     "data": {
      "text/plain": [
       "19803"
      ]
     },
     "execution_count": 76,
     "metadata": {},
     "output_type": "execute_result"
    }
   ],
   "source": [
    "transactions['customer_id'].count()"
   ]
  },
  {
   "cell_type": "code",
   "execution_count": 77,
   "metadata": {},
   "outputs": [
    {
     "data": {
      "text/plain": [
       "5034"
      ]
     },
     "execution_count": 77,
     "metadata": {},
     "output_type": "execute_result"
    }
   ],
   "source": [
    "transactions['customer_id'].max()"
   ]
  },
  {
   "cell_type": "code",
   "execution_count": 79,
   "metadata": {},
   "outputs": [
    {
     "data": {
      "text/plain": [
       "Approved     19625\n",
       "Cancelled      178\n",
       "Name: order_status, dtype: int64"
      ]
     },
     "execution_count": 79,
     "metadata": {},
     "output_type": "execute_result"
    }
   ],
   "source": [
    "transactions['order_status'].value_counts()"
   ]
  },
  {
   "cell_type": "code",
   "execution_count": 88,
   "metadata": {},
   "outputs": [
    {
     "data": {
      "image/png": "[encoded data removed]",
      "text/plain": [
       "<Figure size 360x288 with 1 Axes>"
      ]
     },
     "metadata": {
      "needs_background": "light"
     },
     "output_type": "display_data"
    }
   ],
   "source": [
    "plt.figure(figsize=(5,4))\n",
    "sns.countplot(x='order_status',data=transactions,order=transactions['order_status'].value_counts().index)\n",
    "plt.show()"
   ]
  },
  {
   "cell_type": "code",
   "execution_count": 90,
   "metadata": {},
   "outputs": [
    {
     "data": {
      "text/plain": [
       "Solex             4253\n",
       "Giant Bicycles    3312\n",
       "WeareA2B          3295\n",
       "OHM Cycles        3043\n",
       "Trek Bicycles     2990\n",
       "Norco Bicycles    2910\n",
       "Name: brand, dtype: int64"
      ]
     },
     "execution_count": 90,
     "metadata": {},
     "output_type": "execute_result"
    }
   ],
   "source": [
    "transactions['brand'].value_counts()"
   ]
  },
  {
   "cell_type": "code",
   "execution_count": 91,
   "metadata": {},
   "outputs": [
    {
     "data": {
      "image/png": "[encoded data removed]",
      "text/plain": [
       "<Figure size 360x288 with 1 Axes>"
      ]
     },
     "metadata": {
      "needs_background": "light"
     },
     "output_type": "display_data"
    }
   ],
   "source": [
    "plt.figure(figsize=(5,4))\n",
    "plt.xticks(rotation=90)\n",
    "sns.countplot(x='brand',data=transactions,order=transactions['brand'].value_counts().index)\n",
    "plt.show()"
   ]
  },
  {
   "cell_type": "code",
   "execution_count": 92,
   "metadata": {},
   "outputs": [
    {
     "data": {
      "text/plain": [
       "Standard    14176\n",
       "Road         3970\n",
       "Touring      1234\n",
       "Mountain      423\n",
       "Name: product_line, dtype: int64"
      ]
     },
     "execution_count": 92,
     "metadata": {},
     "output_type": "execute_result"
    }
   ],
   "source": [
    "transactions['product_line'].value_counts()"
   ]
  },
  {
   "cell_type": "code",
   "execution_count": 93,
   "metadata": {},
   "outputs": [
    {
     "data": {
      "image/png": "[encoded data removed]",
      "text/plain": [
       "<Figure size 360x288 with 1 Axes>"
      ]
     },
     "metadata": {
      "needs_background": "light"
     },
     "output_type": "display_data"
    }
   ],
   "source": [
    "plt.figure(figsize=(5,4))\n",
    "plt.xticks(rotation=90)\n",
    "sns.countplot(x='product_line',data=transactions,order=transactions['product_line'].value_counts().index)\n",
    "plt.show()"
   ]
  },
  {
   "cell_type": "code",
   "execution_count": 94,
   "metadata": {},
   "outputs": [
    {
     "data": {
      "text/plain": [
       "medium    13826\n",
       "high       3013\n",
       "low        2964\n",
       "Name: product_class, dtype: int64"
      ]
     },
     "execution_count": 94,
     "metadata": {},
     "output_type": "execute_result"
    }
   ],
   "source": [
    "transactions['product_class'].value_counts()"
   ]
  },
  {
   "cell_type": "code",
   "execution_count": 96,
   "metadata": {},
   "outputs": [
    {
     "data": {
      "image/png": "[encoded data removed]",
      "text/plain": [
       "<Figure size 360x288 with 1 Axes>"
      ]
     },
     "metadata": {
      "needs_background": "light"
     },
     "output_type": "display_data"
    }
   ],
   "source": [
    "plt.figure(figsize=(5,4))\n",
    "sns.countplot(x='product_class',data=transactions,order=transactions['product_class'].value_counts().index)\n",
    "plt.show()"
   ]
  },
  {
   "cell_type": "code",
   "execution_count": 97,
   "metadata": {},
   "outputs": [
    {
     "data": {
      "text/plain": [
       "medium    12990\n",
       "large      3976\n",
       "small      2837\n",
       "Name: product_size, dtype: int64"
      ]
     },
     "execution_count": 97,
     "metadata": {},
     "output_type": "execute_result"
    }
   ],
   "source": [
    "transactions['product_size'].value_counts()"
   ]
  },
  {
   "cell_type": "code",
   "execution_count": 98,
   "metadata": {},
   "outputs": [
    {
     "data": {
      "image/png": "[encoded data removed]",
      "text/plain": [
       "<Figure size 360x288 with 1 Axes>"
      ]
     },
     "metadata": {
      "needs_background": "light"
     },
     "output_type": "display_data"
    }
   ],
   "source": [
    "plt.figure(figsize=(5,4))\n",
    "sns.countplot(x='product_size',data=transactions,order=transactions['product_size'].value_counts().index)\n",
    "plt.show()"
   ]
  },
  {
   "cell_type": "code",
   "execution_count": 100,
   "metadata": {},
   "outputs": [
    {
     "data": {
      "text/plain": [
       "0    41245.0\n",
       "1    41701.0\n",
       "2    36361.0\n",
       "3    36145.0\n",
       "4    42226.0\n",
       "Name: product_first_sold_date, dtype: float64"
      ]
     },
     "execution_count": 100,
     "metadata": {},
     "output_type": "execute_result"
    }
   ],
   "source": [
    "transactions['product_first_sold_date'].head()"
   ]
  },
  {
   "cell_type": "code",
   "execution_count": 105,
   "metadata": {},
   "outputs": [
    {
     "data": {
      "text/plain": [
       "0   1970-01-01 11:27:25\n",
       "1   1970-01-01 11:35:01\n",
       "2   1970-01-01 10:06:01\n",
       "3   1970-01-01 10:02:25\n",
       "4   1970-01-01 11:43:46\n",
       "Name: product_first_sold_date, dtype: datetime64[ns]"
      ]
     },
     "execution_count": 105,
     "metadata": {},
     "output_type": "execute_result"
    }
   ],
   "source": [
    "transactions['product_first_sold_date']=pd.to_datetime(transactions['product_first_sold_date'])\n",
    "transactions['product_first_sold_date'].head()"
   ]
  },
  {
   "cell_type": "markdown",
   "metadata": {},
   "source": [
    "correlation matrix"
   ]
  },
  {
   "cell_type": "code",
   "execution_count": 111,
   "metadata": {},
   "outputs": [
    {
     "data": {
      "text/plain": [
       "<matplotlib.axes._subplots.AxesSubplot at 0x1d3fdf59e48>"
      ]
     },
     "execution_count": 111,
     "metadata": {},
     "output_type": "execute_result"
    },
    {
     "data": {
      "image/png": "[encoded data removed]",
      "text/plain": [
       "<Figure size 432x288 with 2 Axes>"
      ]
     },
     "metadata": {
      "needs_background": "light"
     },
     "output_type": "display_data"
    }
   ],
   "source": [
    "sns.heatmap(data=transactions.corr(),annot=True,cmap='rainbow')"
   ]
  },
  {
   "cell_type": "markdown",
   "metadata": {},
   "source": [
    "Using List_price and Cost we can calculate profit"
   ]
  },
  {
   "cell_type": "code",
   "execution_count": null,
   "metadata": {},
   "outputs": [],
   "source": []
  }
 ],
 "metadata": {
  "kernelspec": {
   "display_name": "Python 3",
   "language": "python",
   "name": "python3"
  },
  "language_info": {
   "codemirror_mode": {
    "name": "ipython",
    "version": 3
   },
   "file_extension": ".py",
   "mimetype": "text/x-python",
   "name": "python",
   "nbconvert_exporter": "python",
   "pygments_lexer": "ipython3",
   "version": "3.7.4"
  }
 },
 "nbformat": 4,
 "nbformat_minor": 2
}
